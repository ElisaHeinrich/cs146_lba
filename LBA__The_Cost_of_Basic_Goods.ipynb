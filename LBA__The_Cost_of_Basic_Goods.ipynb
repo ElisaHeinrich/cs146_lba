{
  "nbformat": 4,
  "nbformat_minor": 0,
  "metadata": {
    "colab": {
      "name": "LBA_ The_Cost_of_Basic_Goods.ipynb",
      "provenance": [],
      "authorship_tag": "ABX9TyOyL/vP+WbCmyNh1jAJxNlw",
      "include_colab_link": true
    },
    "kernelspec": {
      "name": "python3",
      "display_name": "Python 3"
    }
  },
  "cells": [
    {
      "cell_type": "markdown",
      "metadata": {
        "id": "view-in-github",
        "colab_type": "text"
      },
      "source": [
        "<a href=\"https://colab.research.google.com/github/ElisaHeinrich/cs146_lba/blob/master/LBA__The_Cost_of_Basic_Goods.ipynb\" target=\"_parent\"><img src=\"https://colab.research.google.com/assets/colab-badge.svg\" alt=\"Open In Colab\"/></a>"
      ]
    },
    {
      "cell_type": "markdown",
      "metadata": {
        "id": "j5aUQRDPkwQk",
        "colab_type": "text"
      },
      "source": [
        "# **The Cost of Basic Goods**\n",
        "### CS146 Location-Based Assigment\n",
        "---\n",
        "**Elisa Heinrich Mora**\n",
        "\n",
        "**Professor Carl Scheffler**\n",
        "\n",
        "\n",
        "\n"
      ]
    },
    {
      "cell_type": "markdown",
      "metadata": {
        "id": "7jNlelREk_Ot",
        "colab_type": "text"
      },
      "source": [
        "*Does the store brand affect product prices, or not? Are grocery prices and the geographical distribution of different grocery stores correlated with other cost-of-living measures in a city - for example, rent and real estate prices?*\n",
        "\n",
        "### Questions to answer\n",
        "\n",
        "*   What is the basic average price for each product? You need to think carefully about how to anchor the basic price for each product since this will depend on the currency used as well as the distirbution of prices.\n",
        "\n",
        "*   How much does each of the following factors modify the basic price of the product (up or down)?\n",
        "\n",
        "        -   Brand of the grocery store.\n",
        "        -   The geographical location of the grocery store.\n",
        "\n",
        "* Does price variation by geographical location correlate with variation in rantal prices in Buenos Aires, or not?\n",
        "\n",
        "\n"
      ]
    },
    {
      "cell_type": "markdown",
      "metadata": {
        "id": "hxw0fDS1uWpW",
        "colab_type": "text"
      },
      "source": [
        "### Building the model\n",
        "\n",
        "Implementation is done in PyStan, generating samples from the posterior, presenting the posterior results, and using the posteriors to answer the questions provided. \n",
        "\n",
        "The basic idea of the model is that each type of product (apples, bananas, etc.) has a base price, with multipliers depending on store brand and geographical location. \n",
        "\n",
        "\n",
        "\n",
        "*   The base price of each product.\n",
        "        - Price is a positive real number.\n",
        "        - This is a scale parameter since it depends on the currency used - for example, something that costs 1 Euro would currently cost about 130 Japanese Yen or about 27,000 Vietnamese Dong. So we really do not know the scale of prices a priori.\n",
        "        - Since we really do not know the scale, use a broad prior over the base price of each product. \n",
        "\n",
        "*   The multiplier for each store brand\n",
        "        - This is a scale parameter (positive real number)\n",
        "        - The prior should be centered on 1, to achieve an average multiplier of 1. \n",
        "\n",
        "*   The multiplier for the geographical location (perhaps using the nearest Metro stop?)\n",
        "        - This is a scale parameter (positive real number)\n",
        "        - The prior should also be centered on 1\n",
        "\n",
        "\n",
        "\n"
      ]
    },
    {
      "cell_type": "markdown",
      "metadata": {
        "id": "jjoV5iNOez2u",
        "colab_type": "text"
      },
      "source": [
        "## **Metadata**\n",
        "\n",
        "Stores: \n",
        "\n",
        "*   Carrefour, No. 276號, Jinzhou Street, Zhongshan District, Taipei City, Taiwan 10477 - ***Visited on March 6th, 2020 at 10 am.*** \n",
        "\n",
        "*   Wellcome, No. 71, Tong'an Street, Zhongzheng District, Taipei City, Taiwan 100 - ***Visited on on March 6th, 2020 at 11 am.***\n",
        "\n",
        "\n"
      ]
    },
    {
      "cell_type": "code",
      "metadata": {
        "id": "ScrxOLxceypy",
        "colab_type": "code",
        "outputId": "8f77ece7-5828-47cf-f9df-eab1bce2a9bc",
        "colab": {
          "resources": {
            "http://localhost:8080/nbextensions/google.colab/files.js": {
              "data": "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",
              "ok": true,
              "headers": [
                [
                  "content-type",
                  "application/javascript"
                ]
              ],
              "status": 200,
              "status_text": ""
            }
          },
          "base_uri": "https://localhost:8080/",
          "height": 37
        }
      },
      "source": [
        "from google.colab import files\n",
        "from IPython.display import Image\n",
        "\n",
        "uploaded = files.upload()"
      ],
      "execution_count": 50,
      "outputs": [
        {
          "output_type": "display_data",
          "data": {
            "text/html": [
              "\n",
              "     <input type=\"file\" id=\"files-f9298cd5-52c6-4a86-a31b-a87b25bdd31c\" name=\"files[]\" multiple disabled />\n",
              "     <output id=\"result-f9298cd5-52c6-4a86-a31b-a87b25bdd31c\">\n",
              "      Upload widget is only available when the cell has been executed in the\n",
              "      current browser session. Please rerun this cell to enable.\n",
              "      </output>\n",
              "      <script src=\"/nbextensions/google.colab/files.js\"></script> "
            ],
            "text/plain": [
              "<IPython.core.display.HTML object>"
            ]
          },
          "metadata": {
            "tags": []
          }
        }
      ]
    },
    {
      "cell_type": "code",
      "metadata": {
        "id": "lM45ngDeiMkk",
        "colab_type": "code",
        "outputId": "01ce2f50-e01c-4e65-d03b-041197521df4",
        "colab": {
          "base_uri": "https://localhost:8080/",
          "height": 242
        }
      },
      "source": [
        "Image(\"lba1.jpg\", width=300)"
      ],
      "execution_count": 51,
      "outputs": [
        {
          "output_type": "execute_result",
          "data": {
            "image/jpeg": "[encoded data removed]",
            "text/plain": [
              "<IPython.core.display.Image object>"
            ]
          },
          "metadata": {
            "tags": [],
            "image/jpeg": {
              "width": 300
            }
          },
          "execution_count": 51
        }
      ]
    },
    {
      "cell_type": "code",
      "metadata": {
        "id": "wKeK7DGhVOQp",
        "colab_type": "code",
        "outputId": "1f4aa95a-9aa7-4b94-91ce-a38043245daa",
        "colab": {
          "base_uri": "https://localhost:8080/",
          "height": 242
        }
      },
      "source": [
        "Image(\"lba2.jpg\", width=300)"
      ],
      "execution_count": 52,
      "outputs": [
        {
          "output_type": "execute_result",
          "data": {
            "image/jpeg": "[encoded data removed]",
            "text/plain": [
              "<IPython.core.display.Image object>"
            ]
          },
          "metadata": {
            "tags": [],
            "image/jpeg": {
              "width": 300
            }
          },
          "execution_count": 52
        }
      ]
    },
    {
      "cell_type": "markdown",
      "metadata": {
        "id": "LTGkXbwwibs8",
        "colab_type": "text"
      },
      "source": [
        "## Data Cleaning"
      ]
    },
    {
      "cell_type": "code",
      "metadata": {
        "id": "fCmv6GtRiIvf",
        "colab_type": "code",
        "colab": {}
      },
      "source": [
        "from scipy import stats as sts\n",
        "import numpy as np\n",
        "import matplotlib.pyplot as plt\n",
        "import pystan\n",
        "import pandas as pd\n",
        "import difflib"
      ],
      "execution_count": 0,
      "outputs": []
    },
    {
      "cell_type": "code",
      "metadata": {
        "id": "4RUGdrW7jQvD",
        "colab_type": "code",
        "outputId": "3a4c659e-3738-4bc2-bc50-bc89003bbe14",
        "colab": {
          "base_uri": "https://localhost:8080/",
          "height": 564
        }
      },
      "source": [
        "# Importing general data\n",
        "data = pd.read_csv(\"CS146 LBA data gathering (Spring 2020) (Responses) - Form Responses 1.csv\")\n",
        "data.head(5)"
      ],
      "execution_count": 3,
      "outputs": [
        {
          "output_type": "execute_result",
          "data": {
            "text/html": [
              "<div>\n",
              "<style scoped>\n",
              "    .dataframe tbody tr th:only-of-type {\n",
              "        vertical-align: middle;\n",
              "    }\n",
              "\n",
              "    .dataframe tbody tr th {\n",
              "        vertical-align: top;\n",
              "    }\n",
              "\n",
              "    .dataframe thead th {\n",
              "        text-align: right;\n",
              "    }\n",
              "</style>\n",
              "<table border=\"1\" class=\"dataframe\">\n",
              "  <thead>\n",
              "    <tr style=\"text-align: right;\">\n",
              "      <th></th>\n",
              "      <th>Timestamp</th>\n",
              "      <th>Email Address</th>\n",
              "      <th>Your name</th>\n",
              "      <th>Grocery store</th>\n",
              "      <th>Grocery store street address</th>\n",
              "      <th>Product 1 quantity (kg)</th>\n",
              "      <th>Product 1 price</th>\n",
              "      <th>Product 2 quantity (kg)</th>\n",
              "      <th>Product 2 price</th>\n",
              "      <th>Product 3 quantity (kg)</th>\n",
              "      <th>Product 3 price</th>\n",
              "      <th>Product 1 quantity (kg).1</th>\n",
              "      <th>Product 1 price.1</th>\n",
              "      <th>Product 2 quantity (kg).1</th>\n",
              "      <th>Product 2 price.1</th>\n",
              "      <th>Product 3 quantity (kg).1</th>\n",
              "      <th>Product 3 price.1</th>\n",
              "      <th>Product 1 quantity (kg).2</th>\n",
              "      <th>Product 1 price.2</th>\n",
              "      <th>Product 2 quantity (kg).2</th>\n",
              "      <th>Product 2 price.2</th>\n",
              "      <th>Product 3 quantity (kg).2</th>\n",
              "      <th>Product 3 price.2</th>\n",
              "      <th>Product 1 quantity (kg).3</th>\n",
              "      <th>Product 1 price.3</th>\n",
              "      <th>Product 2 quantity (kg).3</th>\n",
              "      <th>Product 2 price.3</th>\n",
              "      <th>Product 3 quantity (kg).3</th>\n",
              "      <th>Product 3 price.3</th>\n",
              "      <th>Product 1 quantity (kg).4</th>\n",
              "      <th>Product 1 price.4</th>\n",
              "      <th>Product 2 quantity (kg).4</th>\n",
              "      <th>Product 2 price.4</th>\n",
              "      <th>Product 3 quantity (kg).4</th>\n",
              "      <th>Product 3 price.4</th>\n",
              "      <th>Product 1 quantity (kg).5</th>\n",
              "      <th>Product 1 price.5</th>\n",
              "      <th>Product 2 quantity (kg).5</th>\n",
              "      <th>Product 2 price.5</th>\n",
              "      <th>Product 3 quantity (kg).5</th>\n",
              "      <th>Product 3 price.5</th>\n",
              "      <th>Product 1 quantity (liters)</th>\n",
              "      <th>Product 1 price.6</th>\n",
              "      <th>Product 2 quantity (liters)</th>\n",
              "      <th>Product 2 price.6</th>\n",
              "      <th>Product 3 quantity (liters)</th>\n",
              "      <th>Product 3 price.6</th>\n",
              "      <th>Product 1 quantity (kg).6</th>\n",
              "      <th>Product 1 price.7</th>\n",
              "      <th>Product 2 quantity (kg).6</th>\n",
              "      <th>Product 2 price.7</th>\n",
              "      <th>Product 3 quantity (kg).6</th>\n",
              "      <th>Product 3 price.7</th>\n",
              "      <th>Product 1 quantity (count)</th>\n",
              "      <th>Product 1 price.8</th>\n",
              "      <th>Product 2 quantity (count)</th>\n",
              "      <th>Product 2 price.8</th>\n",
              "      <th>Product 3 quantity (count)</th>\n",
              "      <th>Product 3 price.8</th>\n",
              "      <th>Product 1 quantity (kg).7</th>\n",
              "      <th>Product 1 price.9</th>\n",
              "      <th>Product 2 quantity (kg).7</th>\n",
              "      <th>Product 2 price.9</th>\n",
              "      <th>Product 3 quantity (kg).7</th>\n",
              "      <th>Product 3 price.9</th>\n",
              "    </tr>\n",
              "  </thead>\n",
              "  <tbody>\n",
              "    <tr>\n",
              "      <th>0</th>\n",
              "      <td>3/2/2020 19:09:54</td>\n",
              "      <td>antoniostark@minerva.kgi.edu</td>\n",
              "      <td>Antonio Stark</td>\n",
              "      <td>Wellcome</td>\n",
              "      <td>Wellcome, No. 145, Section 1, Heping East Road...</td>\n",
              "      <td>0.6</td>\n",
              "      <td>198.00</td>\n",
              "      <td>0.4</td>\n",
              "      <td>138.0</td>\n",
              "      <td>1.2</td>\n",
              "      <td>478.0</td>\n",
              "      <td>0.14</td>\n",
              "      <td>20.0</td>\n",
              "      <td>NaN</td>\n",
              "      <td>NaN</td>\n",
              "      <td>NaN</td>\n",
              "      <td>NaN</td>\n",
              "      <td>0.5</td>\n",
              "      <td>158.00</td>\n",
              "      <td>0.5</td>\n",
              "      <td>118.00</td>\n",
              "      <td>0.5</td>\n",
              "      <td>136.0</td>\n",
              "      <td>0.6</td>\n",
              "      <td>118.00</td>\n",
              "      <td>1.0</td>\n",
              "      <td>130.0</td>\n",
              "      <td>1.0</td>\n",
              "      <td>90.0</td>\n",
              "      <td>0.1</td>\n",
              "      <td>21.00</td>\n",
              "      <td>0.1</td>\n",
              "      <td>12.0</td>\n",
              "      <td>1.0</td>\n",
              "      <td>118.00</td>\n",
              "      <td>1.0</td>\n",
              "      <td>253.34</td>\n",
              "      <td>2.5</td>\n",
              "      <td>458.00</td>\n",
              "      <td>1.0</td>\n",
              "      <td>112.66</td>\n",
              "      <td>0.1</td>\n",
              "      <td>17.94</td>\n",
              "      <td>0.1</td>\n",
              "      <td>18.28</td>\n",
              "      <td>0.1</td>\n",
              "      <td>17.86</td>\n",
              "      <td>0.01</td>\n",
              "      <td>16.26</td>\n",
              "      <td>0.1</td>\n",
              "      <td>170.00</td>\n",
              "      <td>0.1</td>\n",
              "      <td>254.4</td>\n",
              "      <td>10.0</td>\n",
              "      <td>190.00</td>\n",
              "      <td>10.0</td>\n",
              "      <td>96.00</td>\n",
              "      <td>10.0</td>\n",
              "      <td>158.00</td>\n",
              "      <td>0.16</td>\n",
              "      <td>198.0</td>\n",
              "      <td>0.25</td>\n",
              "      <td>158.0</td>\n",
              "      <td>0.1</td>\n",
              "      <td>50.0</td>\n",
              "    </tr>\n",
              "    <tr>\n",
              "      <th>1</th>\n",
              "      <td>3/2/2020 23:33:15</td>\n",
              "      <td>halkenjo@minerva.kgi.edu</td>\n",
              "      <td>Johannes Halkenhaeusser</td>\n",
              "      <td>Carrefour</td>\n",
              "      <td>Carrefour Market, Av. Corrientes 1160, 1043 CA...</td>\n",
              "      <td>1.0</td>\n",
              "      <td>69.90</td>\n",
              "      <td>1.0</td>\n",
              "      <td>86.0</td>\n",
              "      <td>1.0</td>\n",
              "      <td>50.0</td>\n",
              "      <td>1.00</td>\n",
              "      <td>94.9</td>\n",
              "      <td>NaN</td>\n",
              "      <td>NaN</td>\n",
              "      <td>NaN</td>\n",
              "      <td>NaN</td>\n",
              "      <td>1.0</td>\n",
              "      <td>84.90</td>\n",
              "      <td>NaN</td>\n",
              "      <td>NaN</td>\n",
              "      <td>NaN</td>\n",
              "      <td>NaN</td>\n",
              "      <td>1.0</td>\n",
              "      <td>26.00</td>\n",
              "      <td>1.0</td>\n",
              "      <td>55.0</td>\n",
              "      <td>1.0</td>\n",
              "      <td>54.9</td>\n",
              "      <td>1.0</td>\n",
              "      <td>46.00</td>\n",
              "      <td>1.0</td>\n",
              "      <td>33.0</td>\n",
              "      <td>1.0</td>\n",
              "      <td>54.90</td>\n",
              "      <td>1.0</td>\n",
              "      <td>53.50</td>\n",
              "      <td>1.0</td>\n",
              "      <td>61.00</td>\n",
              "      <td>1.0</td>\n",
              "      <td>54.50</td>\n",
              "      <td>1.0</td>\n",
              "      <td>40.25</td>\n",
              "      <td>1.0</td>\n",
              "      <td>51.90</td>\n",
              "      <td>1.0</td>\n",
              "      <td>218.50</td>\n",
              "      <td>1.00</td>\n",
              "      <td>545.00</td>\n",
              "      <td>1.0</td>\n",
              "      <td>525.00</td>\n",
              "      <td>1.0</td>\n",
              "      <td>680.0</td>\n",
              "      <td>1.0</td>\n",
              "      <td>9.83</td>\n",
              "      <td>1.0</td>\n",
              "      <td>9.17</td>\n",
              "      <td>1.0</td>\n",
              "      <td>10.25</td>\n",
              "      <td>1.00</td>\n",
              "      <td>239.9</td>\n",
              "      <td>1.00</td>\n",
              "      <td>304.9</td>\n",
              "      <td>NaN</td>\n",
              "      <td>NaN</td>\n",
              "    </tr>\n",
              "    <tr>\n",
              "      <th>2</th>\n",
              "      <td>3/2/2020 23:37:17</td>\n",
              "      <td>halkenjo@minerva.kgi.edu</td>\n",
              "      <td>Johannes Halkenhaeusser</td>\n",
              "      <td>Supermercados Día</td>\n",
              "      <td>Supermercados Día, Av. Corrientes 3534, C1194 ...</td>\n",
              "      <td>1.0</td>\n",
              "      <td>74.99</td>\n",
              "      <td>NaN</td>\n",
              "      <td>NaN</td>\n",
              "      <td>NaN</td>\n",
              "      <td>NaN</td>\n",
              "      <td>NaN</td>\n",
              "      <td>NaN</td>\n",
              "      <td>NaN</td>\n",
              "      <td>NaN</td>\n",
              "      <td>NaN</td>\n",
              "      <td>NaN</td>\n",
              "      <td>1.0</td>\n",
              "      <td>92.99</td>\n",
              "      <td>1.0</td>\n",
              "      <td>92.99</td>\n",
              "      <td>NaN</td>\n",
              "      <td>NaN</td>\n",
              "      <td>1.0</td>\n",
              "      <td>34.99</td>\n",
              "      <td>NaN</td>\n",
              "      <td>NaN</td>\n",
              "      <td>NaN</td>\n",
              "      <td>NaN</td>\n",
              "      <td>1.0</td>\n",
              "      <td>40.69</td>\n",
              "      <td>NaN</td>\n",
              "      <td>NaN</td>\n",
              "      <td>NaN</td>\n",
              "      <td>NaN</td>\n",
              "      <td>1.0</td>\n",
              "      <td>59.99</td>\n",
              "      <td>1.0</td>\n",
              "      <td>67.98</td>\n",
              "      <td>1.0</td>\n",
              "      <td>49.99</td>\n",
              "      <td>1.0</td>\n",
              "      <td>52.49</td>\n",
              "      <td>1.0</td>\n",
              "      <td>40.25</td>\n",
              "      <td>1.0</td>\n",
              "      <td>68.99</td>\n",
              "      <td>1.00</td>\n",
              "      <td>489.98</td>\n",
              "      <td>1.0</td>\n",
              "      <td>497.45</td>\n",
              "      <td>1.0</td>\n",
              "      <td>532.9</td>\n",
              "      <td>1.0</td>\n",
              "      <td>9.83</td>\n",
              "      <td>1.0</td>\n",
              "      <td>9.17</td>\n",
              "      <td>1.0</td>\n",
              "      <td>11.33</td>\n",
              "      <td>1.00</td>\n",
              "      <td>312.9</td>\n",
              "      <td>NaN</td>\n",
              "      <td>NaN</td>\n",
              "      <td>NaN</td>\n",
              "      <td>NaN</td>\n",
              "    </tr>\n",
              "    <tr>\n",
              "      <th>3</th>\n",
              "      <td>3/3/2020 20:18:11</td>\n",
              "      <td>dennis.antela@minerva.kgi.edu</td>\n",
              "      <td>Dennis Antela Martinez</td>\n",
              "      <td>Jumbo</td>\n",
              "      <td>Jumbo, Av. Santa Fe 4950, C1425 BHY, Buenos Ai...</td>\n",
              "      <td>1.0</td>\n",
              "      <td>80.00</td>\n",
              "      <td>NaN</td>\n",
              "      <td>NaN</td>\n",
              "      <td>NaN</td>\n",
              "      <td>NaN</td>\n",
              "      <td>1.00</td>\n",
              "      <td>84.0</td>\n",
              "      <td>NaN</td>\n",
              "      <td>NaN</td>\n",
              "      <td>NaN</td>\n",
              "      <td>NaN</td>\n",
              "      <td>1.0</td>\n",
              "      <td>99.00</td>\n",
              "      <td>1.0</td>\n",
              "      <td>139.00</td>\n",
              "      <td>1.0</td>\n",
              "      <td>109.0</td>\n",
              "      <td>1.0</td>\n",
              "      <td>44.00</td>\n",
              "      <td>1.0</td>\n",
              "      <td>26.0</td>\n",
              "      <td>1.0</td>\n",
              "      <td>58.0</td>\n",
              "      <td>1.0</td>\n",
              "      <td>40.00</td>\n",
              "      <td>1.0</td>\n",
              "      <td>77.5</td>\n",
              "      <td>1.0</td>\n",
              "      <td>64.00</td>\n",
              "      <td>1.0</td>\n",
              "      <td>54.00</td>\n",
              "      <td>1.0</td>\n",
              "      <td>53.50</td>\n",
              "      <td>1.0</td>\n",
              "      <td>54.50</td>\n",
              "      <td>1.0</td>\n",
              "      <td>69.00</td>\n",
              "      <td>1.0</td>\n",
              "      <td>60.00</td>\n",
              "      <td>1.0</td>\n",
              "      <td>65.00</td>\n",
              "      <td>0.20</td>\n",
              "      <td>125.00</td>\n",
              "      <td>0.2</td>\n",
              "      <td>130.00</td>\n",
              "      <td>0.2</td>\n",
              "      <td>94.0</td>\n",
              "      <td>6.0</td>\n",
              "      <td>92.90</td>\n",
              "      <td>6.0</td>\n",
              "      <td>59.00</td>\n",
              "      <td>6.0</td>\n",
              "      <td>82.90</td>\n",
              "      <td>1.00</td>\n",
              "      <td>293.9</td>\n",
              "      <td>1.00</td>\n",
              "      <td>348.9</td>\n",
              "      <td>NaN</td>\n",
              "      <td>NaN</td>\n",
              "    </tr>\n",
              "    <tr>\n",
              "      <th>4</th>\n",
              "      <td>3/4/2020 21:27:02</td>\n",
              "      <td>jasenlo@minerva.kgi.edu</td>\n",
              "      <td>Jasen Lo</td>\n",
              "      <td>Jumbo</td>\n",
              "      <td>Jumbo, Guardia Vieja 4558, C1192 CABA, Argentina</td>\n",
              "      <td>1.0</td>\n",
              "      <td>69.00</td>\n",
              "      <td>1.0</td>\n",
              "      <td>89.0</td>\n",
              "      <td>1.0</td>\n",
              "      <td>159.0</td>\n",
              "      <td>1.00</td>\n",
              "      <td>84.0</td>\n",
              "      <td>NaN</td>\n",
              "      <td>NaN</td>\n",
              "      <td>NaN</td>\n",
              "      <td>NaN</td>\n",
              "      <td>1.0</td>\n",
              "      <td>99.00</td>\n",
              "      <td>1.0</td>\n",
              "      <td>109.00</td>\n",
              "      <td>1.0</td>\n",
              "      <td>139.0</td>\n",
              "      <td>1.0</td>\n",
              "      <td>39.00</td>\n",
              "      <td>1.0</td>\n",
              "      <td>55.0</td>\n",
              "      <td>NaN</td>\n",
              "      <td>NaN</td>\n",
              "      <td>1.0</td>\n",
              "      <td>83.00</td>\n",
              "      <td>1.0</td>\n",
              "      <td>80.0</td>\n",
              "      <td>1.0</td>\n",
              "      <td>66.89</td>\n",
              "      <td>1.0</td>\n",
              "      <td>53.50</td>\n",
              "      <td>1.0</td>\n",
              "      <td>66.00</td>\n",
              "      <td>1.0</td>\n",
              "      <td>54.30</td>\n",
              "      <td>1.0</td>\n",
              "      <td>40.25</td>\n",
              "      <td>1.0</td>\n",
              "      <td>65.00</td>\n",
              "      <td>1.0</td>\n",
              "      <td>69.00</td>\n",
              "      <td>0.10</td>\n",
              "      <td>69.00</td>\n",
              "      <td>0.2</td>\n",
              "      <td>124.70</td>\n",
              "      <td>0.2</td>\n",
              "      <td>130.0</td>\n",
              "      <td>12.0</td>\n",
              "      <td>185.00</td>\n",
              "      <td>12.0</td>\n",
              "      <td>145.00</td>\n",
              "      <td>12.0</td>\n",
              "      <td>99.00</td>\n",
              "      <td>1.00</td>\n",
              "      <td>372.0</td>\n",
              "      <td>NaN</td>\n",
              "      <td>NaN</td>\n",
              "      <td>NaN</td>\n",
              "      <td>NaN</td>\n",
              "    </tr>\n",
              "  </tbody>\n",
              "</table>\n",
              "</div>"
            ],
            "text/plain": [
              "           Timestamp  ... Product 3 price.9\n",
              "0  3/2/2020 19:09:54  ...              50.0\n",
              "1  3/2/2020 23:33:15  ...               NaN\n",
              "2  3/2/2020 23:37:17  ...               NaN\n",
              "3  3/3/2020 20:18:11  ...               NaN\n",
              "4  3/4/2020 21:27:02  ...               NaN\n",
              "\n",
              "[5 rows x 65 columns]"
            ]
          },
          "metadata": {
            "tags": []
          },
          "execution_count": 3
        }
      ]
    },
    {
      "cell_type": "code",
      "metadata": {
        "id": "NtnY36U41WFu",
        "colab_type": "code",
        "colab": {}
      },
      "source": [
        "# Will delete Tony since it is the only data point in San Francisco\n",
        "data = data[data['Your name'] != 'Tony Zhu']"
      ],
      "execution_count": 0,
      "outputs": []
    },
    {
      "cell_type": "code",
      "metadata": {
        "id": "HjsJ3b6Tjuds",
        "colab_type": "code",
        "outputId": "2028ec14-171c-48d1-9eaf-cb5331700978",
        "colab": {
          "base_uri": "https://localhost:8080/",
          "height": 34
        }
      },
      "source": [
        "# Checking data dimensions (we have 19 students in total (not including Tony), times 2 since each one of them has 2 assigned supermarkets) \n",
        "data.shape"
      ],
      "execution_count": 5,
      "outputs": [
        {
          "output_type": "execute_result",
          "data": {
            "text/plain": [
              "(38, 65)"
            ]
          },
          "metadata": {
            "tags": []
          },
          "execution_count": 5
        }
      ]
    },
    {
      "cell_type": "code",
      "metadata": {
        "id": "Uh_Kjq-QkDnU",
        "colab_type": "code",
        "outputId": "5f3f4104-0cfb-46ab-c9d8-6cc8cbd24987",
        "colab": {
          "base_uri": "https://localhost:8080/",
          "height": 34
        }
      },
      "source": [
        "# We confirm that the number of unique values matches the number \n",
        "# of students in class (19) (except for tony)\n",
        "data['Your name'].nunique()"
      ],
      "execution_count": 6,
      "outputs": [
        {
          "output_type": "execute_result",
          "data": {
            "text/plain": [
              "19"
            ]
          },
          "metadata": {
            "tags": []
          },
          "execution_count": 6
        }
      ]
    },
    {
      "cell_type": "code",
      "metadata": {
        "id": "VJBKMYmsyrlZ",
        "colab_type": "code",
        "outputId": "9de5713d-6c8f-4f6c-8462-2356d3a88529",
        "colab": {
          "base_uri": "https://localhost:8080/",
          "height": 136
        }
      },
      "source": [
        "data['Your name'].unique()"
      ],
      "execution_count": 7,
      "outputs": [
        {
          "output_type": "execute_result",
          "data": {
            "text/plain": [
              "array(['Antonio Stark', 'Johannes Halkenhaeusser',\n",
              "       'Dennis Antela Martinez', 'Jasen Lo', 'Giovanna Chaves', 'Kay',\n",
              "       'Elisa Heinrich Mora', 'Zdravko Varbanov', 'Yu-Ang Chang',\n",
              "       'Yuhao Chen', 'Luis Gonzalez', 'Julia Minichelli',\n",
              "       'Yong Zheng Xin', 'Ha Nguyen', 'Hung Nguyen', 'Abdul Qadir',\n",
              "       'Ziad Ahmed Tawfiq', 'Zainab Ahmed', 'Simon Golombek'],\n",
              "      dtype=object)"
            ]
          },
          "metadata": {
            "tags": []
          },
          "execution_count": 7
        }
      ]
    },
    {
      "cell_type": "code",
      "metadata": {
        "id": "63n-QWDlzCy_",
        "colab_type": "code",
        "outputId": "c3a7fa11-8995-4c41-e14f-86894dace67a",
        "colab": {
          "base_uri": "https://localhost:8080/",
          "height": 34
        }
      },
      "source": [
        "# Let's also make sure we have unique values in the Grocery Store column\n",
        "data['Grocery store'].nunique()"
      ],
      "execution_count": 8,
      "outputs": [
        {
          "output_type": "execute_result",
          "data": {
            "text/plain": [
              "4"
            ]
          },
          "metadata": {
            "tags": []
          },
          "execution_count": 8
        }
      ]
    },
    {
      "cell_type": "code",
      "metadata": {
        "id": "sh5DCcW1zqql",
        "colab_type": "code",
        "outputId": "5ee417eb-a8f9-468b-8cc7-3f0e7550e4f4",
        "colab": {
          "base_uri": "https://localhost:8080/",
          "height": 51
        }
      },
      "source": [
        "# This is great, data does not have false duplicates, very clean :)\n",
        "data['Grocery store'].unique()"
      ],
      "execution_count": 9,
      "outputs": [
        {
          "output_type": "execute_result",
          "data": {
            "text/plain": [
              "array(['Wellcome', 'Carrefour', 'Supermercados Día', 'Jumbo'],\n",
              "      dtype=object)"
            ]
          },
          "metadata": {
            "tags": []
          },
          "execution_count": 9
        }
      ]
    },
    {
      "cell_type": "code",
      "metadata": {
        "id": "u9oJA-qdlnEH",
        "colab_type": "code",
        "outputId": "49ace756-6f2f-4b50-db39-e79c5c015754",
        "colab": {
          "base_uri": "https://localhost:8080/",
          "height": 210
        }
      },
      "source": [
        "# importing Supermarket data Taipei - Buenos Aires\n",
        "# Fixing headers \n",
        "\n",
        "taipei = pd.read_csv(\"CS146, Spring 2020, LBA data collection - Taipei supermarkets.csv\")\n",
        "taipei = taipei.iloc[3:]\n",
        "new_header = taipei.iloc[0]\n",
        "taipei = taipei[1:]\n",
        "taipei.columns = new_header\n",
        "\n",
        "# Taipei will be considered as a neighborhood in this assignment\n",
        "#SorryTaipei\n",
        "taipei['Neighborhood'].fillna('Taipei', inplace= True)\n",
        "taipei.head(3)"
      ],
      "execution_count": 10,
      "outputs": [
        {
          "output_type": "execute_result",
          "data": {
            "text/html": [
              "<div>\n",
              "<style scoped>\n",
              "    .dataframe tbody tr th:only-of-type {\n",
              "        vertical-align: middle;\n",
              "    }\n",
              "\n",
              "    .dataframe tbody tr th {\n",
              "        vertical-align: top;\n",
              "    }\n",
              "\n",
              "    .dataframe thead th {\n",
              "        text-align: right;\n",
              "    }\n",
              "</style>\n",
              "<table border=\"1\" class=\"dataframe\">\n",
              "  <thead>\n",
              "    <tr style=\"text-align: right;\">\n",
              "      <th>3</th>\n",
              "      <th>Student index</th>\n",
              "      <th>Student name (alphabetical)</th>\n",
              "      <th>Supermarket</th>\n",
              "      <th>Map location</th>\n",
              "      <th>Estimated travel time (min)</th>\n",
              "      <th>Neighborhood</th>\n",
              "    </tr>\n",
              "  </thead>\n",
              "  <tbody>\n",
              "    <tr>\n",
              "      <th>4</th>\n",
              "      <td>3</td>\n",
              "      <td>Antonio</td>\n",
              "      <td>Wellcome, No. 145, Section 1, Heping East Road...</td>\n",
              "      <td>https://goo.gl/maps/Lo49cw1euuKbGYEu8</td>\n",
              "      <td>10</td>\n",
              "      <td>Taipei</td>\n",
              "    </tr>\n",
              "    <tr>\n",
              "      <th>5</th>\n",
              "      <td>3</td>\n",
              "      <td>Antonio</td>\n",
              "      <td>Carrefour, 100, Taiwan, Taipei City, Zhongzhen...</td>\n",
              "      <td>https://goo.gl/maps/WtGBKxKDMc2bkbnt6</td>\n",
              "      <td>12</td>\n",
              "      <td>Taipei</td>\n",
              "    </tr>\n",
              "    <tr>\n",
              "      <th>6</th>\n",
              "      <td>2</td>\n",
              "      <td>Elisa</td>\n",
              "      <td>Wellcome, No. 71, Tong'an Street, Zhongzheng D...</td>\n",
              "      <td>https://goo.gl/maps/u2N2T3Vevb3GoY6r9</td>\n",
              "      <td>7</td>\n",
              "      <td>Taipei</td>\n",
              "    </tr>\n",
              "  </tbody>\n",
              "</table>\n",
              "</div>"
            ],
            "text/plain": [
              "3 Student index  ... Neighborhood\n",
              "4             3  ...       Taipei\n",
              "5             3  ...       Taipei\n",
              "6             2  ...       Taipei\n",
              "\n",
              "[3 rows x 6 columns]"
            ]
          },
          "metadata": {
            "tags": []
          },
          "execution_count": 10
        }
      ]
    },
    {
      "cell_type": "code",
      "metadata": {
        "id": "LqkhriApnu_i",
        "colab_type": "code",
        "outputId": "fd356d42-15c4-4cc4-ec69-bffaae20bb41",
        "colab": {
          "base_uri": "https://localhost:8080/",
          "height": 210
        }
      },
      "source": [
        "# Importing buenos aires neighborhoods data\n",
        "# Fixing the header\n",
        "bs_as = pd.read_csv(\"CS146, Spring 2020, LBA data collection - Buenos Aires supermarkets.csv\")\n",
        "bs_as = bs_as.iloc[2:]\n",
        "new_header = bs_as.iloc[0]\n",
        "bs_as = bs_as[1:]\n",
        "bs_as.columns = new_header\n",
        "bs_as.head(3)"
      ],
      "execution_count": 11,
      "outputs": [
        {
          "output_type": "execute_result",
          "data": {
            "text/html": [
              "<div>\n",
              "<style scoped>\n",
              "    .dataframe tbody tr th:only-of-type {\n",
              "        vertical-align: middle;\n",
              "    }\n",
              "\n",
              "    .dataframe tbody tr th {\n",
              "        vertical-align: top;\n",
              "    }\n",
              "\n",
              "    .dataframe thead th {\n",
              "        text-align: right;\n",
              "    }\n",
              "</style>\n",
              "<table border=\"1\" class=\"dataframe\">\n",
              "  <thead>\n",
              "    <tr style=\"text-align: right;\">\n",
              "      <th>2</th>\n",
              "      <th>Student index</th>\n",
              "      <th>Student name (alphabetical)</th>\n",
              "      <th>Supermarket</th>\n",
              "      <th>Map location</th>\n",
              "      <th>Estimated travel time (min)</th>\n",
              "      <th>Neighborhood</th>\n",
              "    </tr>\n",
              "  </thead>\n",
              "  <tbody>\n",
              "    <tr>\n",
              "      <th>3</th>\n",
              "      <td>8</td>\n",
              "      <td>Abdul</td>\n",
              "      <td>Supermercados Día, Av. Rivadavia 1177, C1033 A...</td>\n",
              "      <td>https://goo.gl/maps/smv1MjGE7FmNXqnMA</td>\n",
              "      <td>20</td>\n",
              "      <td>Monserrat</td>\n",
              "    </tr>\n",
              "    <tr>\n",
              "      <th>4</th>\n",
              "      <td>8</td>\n",
              "      <td>Abdul</td>\n",
              "      <td>Supermercados Día, C1426AJS AJS, Amenábar 1145...</td>\n",
              "      <td>https://goo.gl/maps/Q2LsaodSz7U3Jfbf7</td>\n",
              "      <td>40</td>\n",
              "      <td>Colegiales</td>\n",
              "    </tr>\n",
              "    <tr>\n",
              "      <th>5</th>\n",
              "      <td>14</td>\n",
              "      <td>Dennis</td>\n",
              "      <td>Supermercados Día, Buenos Aires, Defensa 748, ...</td>\n",
              "      <td>https://goo.gl/maps/PYDcuuyhLyRBb8b89</td>\n",
              "      <td>33</td>\n",
              "      <td>Monserrat</td>\n",
              "    </tr>\n",
              "  </tbody>\n",
              "</table>\n",
              "</div>"
            ],
            "text/plain": [
              "2 Student index  ... Neighborhood\n",
              "3             8  ...    Monserrat\n",
              "4             8  ...   Colegiales\n",
              "5            14  ...    Monserrat\n",
              "\n",
              "[3 rows x 6 columns]"
            ]
          },
          "metadata": {
            "tags": []
          },
          "execution_count": 11
        }
      ]
    },
    {
      "cell_type": "code",
      "metadata": {
        "id": "1yoV7ChhoK6g",
        "colab_type": "code",
        "outputId": "f8903089-0c88-4063-d088-a7c3e87ac0fc",
        "colab": {
          "base_uri": "https://localhost:8080/",
          "height": 306
        }
      },
      "source": [
        "# Contecatenate both data sets\n",
        "# Resulting in a dataset with all the data points from Taipei and Bs As\n",
        "supermarkets = pd.concat([bs_as, taipei])\n",
        "supermarkets.head(5)"
      ],
      "execution_count": 12,
      "outputs": [
        {
          "output_type": "execute_result",
          "data": {
            "text/html": [
              "<div>\n",
              "<style scoped>\n",
              "    .dataframe tbody tr th:only-of-type {\n",
              "        vertical-align: middle;\n",
              "    }\n",
              "\n",
              "    .dataframe tbody tr th {\n",
              "        vertical-align: top;\n",
              "    }\n",
              "\n",
              "    .dataframe thead th {\n",
              "        text-align: right;\n",
              "    }\n",
              "</style>\n",
              "<table border=\"1\" class=\"dataframe\">\n",
              "  <thead>\n",
              "    <tr style=\"text-align: right;\">\n",
              "      <th></th>\n",
              "      <th>Student index</th>\n",
              "      <th>Student name (alphabetical)</th>\n",
              "      <th>Supermarket</th>\n",
              "      <th>Map location</th>\n",
              "      <th>Estimated travel time (min)</th>\n",
              "      <th>Neighborhood</th>\n",
              "    </tr>\n",
              "  </thead>\n",
              "  <tbody>\n",
              "    <tr>\n",
              "      <th>3</th>\n",
              "      <td>8</td>\n",
              "      <td>Abdul</td>\n",
              "      <td>Supermercados Día, Av. Rivadavia 1177, C1033 A...</td>\n",
              "      <td>https://goo.gl/maps/smv1MjGE7FmNXqnMA</td>\n",
              "      <td>20</td>\n",
              "      <td>Monserrat</td>\n",
              "    </tr>\n",
              "    <tr>\n",
              "      <th>4</th>\n",
              "      <td>8</td>\n",
              "      <td>Abdul</td>\n",
              "      <td>Supermercados Día, C1426AJS AJS, Amenábar 1145...</td>\n",
              "      <td>https://goo.gl/maps/Q2LsaodSz7U3Jfbf7</td>\n",
              "      <td>40</td>\n",
              "      <td>Colegiales</td>\n",
              "    </tr>\n",
              "    <tr>\n",
              "      <th>5</th>\n",
              "      <td>14</td>\n",
              "      <td>Dennis</td>\n",
              "      <td>Supermercados Día, Buenos Aires, Defensa 748, ...</td>\n",
              "      <td>https://goo.gl/maps/PYDcuuyhLyRBb8b89</td>\n",
              "      <td>33</td>\n",
              "      <td>Monserrat</td>\n",
              "    </tr>\n",
              "    <tr>\n",
              "      <th>6</th>\n",
              "      <td>14</td>\n",
              "      <td>Dennis</td>\n",
              "      <td>Jumbo, Av. Santa Fe 4950, C1425 BHY, Buenos Ai...</td>\n",
              "      <td>https://goo.gl/maps/eXftDSMqfvBS6QUM9</td>\n",
              "      <td>35</td>\n",
              "      <td>Palermo</td>\n",
              "    </tr>\n",
              "    <tr>\n",
              "      <th>7</th>\n",
              "      <td>5</td>\n",
              "      <td>Ha</td>\n",
              "      <td>Supermercados Día, Buenos Aires, Raúl Scalabri...</td>\n",
              "      <td>https://goo.gl/maps/P5uY1gCVAMGWBGUW8</td>\n",
              "      <td>40</td>\n",
              "      <td>Palermo</td>\n",
              "    </tr>\n",
              "  </tbody>\n",
              "</table>\n",
              "</div>"
            ],
            "text/plain": [
              "  Student index  ... Neighborhood\n",
              "3             8  ...    Monserrat\n",
              "4             8  ...   Colegiales\n",
              "5            14  ...    Monserrat\n",
              "6            14  ...      Palermo\n",
              "7             5  ...      Palermo\n",
              "\n",
              "[5 rows x 6 columns]"
            ]
          },
          "metadata": {
            "tags": []
          },
          "execution_count": 12
        }
      ]
    },
    {
      "cell_type": "code",
      "metadata": {
        "id": "8J-qQFq3xdIx",
        "colab_type": "code",
        "outputId": "f8cc5a42-49d9-49a0-adc8-7bd1295f7296",
        "colab": {
          "base_uri": "https://localhost:8080/",
          "height": 34
        }
      },
      "source": [
        "supermarkets.shape"
      ],
      "execution_count": 13,
      "outputs": [
        {
          "output_type": "execute_result",
          "data": {
            "text/plain": [
              "(47, 6)"
            ]
          },
          "metadata": {
            "tags": []
          },
          "execution_count": 13
        }
      ]
    },
    {
      "cell_type": "code",
      "metadata": {
        "id": "95qhjEME0vwC",
        "colab_type": "code",
        "outputId": "e944df7c-c615-4977-960e-fbb86e03b99d",
        "colab": {
          "base_uri": "https://localhost:8080/",
          "height": 114
        }
      },
      "source": [
        "supermarkets.head(1)"
      ],
      "execution_count": 14,
      "outputs": [
        {
          "output_type": "execute_result",
          "data": {
            "text/html": [
              "<div>\n",
              "<style scoped>\n",
              "    .dataframe tbody tr th:only-of-type {\n",
              "        vertical-align: middle;\n",
              "    }\n",
              "\n",
              "    .dataframe tbody tr th {\n",
              "        vertical-align: top;\n",
              "    }\n",
              "\n",
              "    .dataframe thead th {\n",
              "        text-align: right;\n",
              "    }\n",
              "</style>\n",
              "<table border=\"1\" class=\"dataframe\">\n",
              "  <thead>\n",
              "    <tr style=\"text-align: right;\">\n",
              "      <th></th>\n",
              "      <th>Student index</th>\n",
              "      <th>Student name (alphabetical)</th>\n",
              "      <th>Supermarket</th>\n",
              "      <th>Map location</th>\n",
              "      <th>Estimated travel time (min)</th>\n",
              "      <th>Neighborhood</th>\n",
              "    </tr>\n",
              "  </thead>\n",
              "  <tbody>\n",
              "    <tr>\n",
              "      <th>3</th>\n",
              "      <td>8</td>\n",
              "      <td>Abdul</td>\n",
              "      <td>Supermercados Día, Av. Rivadavia 1177, C1033 A...</td>\n",
              "      <td>https://goo.gl/maps/smv1MjGE7FmNXqnMA</td>\n",
              "      <td>20</td>\n",
              "      <td>Monserrat</td>\n",
              "    </tr>\n",
              "  </tbody>\n",
              "</table>\n",
              "</div>"
            ],
            "text/plain": [
              "  Student index  ... Neighborhood\n",
              "3             8  ...    Monserrat\n",
              "\n",
              "[1 rows x 6 columns]"
            ]
          },
          "metadata": {
            "tags": []
          },
          "execution_count": 14
        }
      ]
    },
    {
      "cell_type": "code",
      "metadata": {
        "id": "RBP38y170zkK",
        "colab_type": "code",
        "outputId": "dfad4d64-4d69-4f9a-ae04-77c6bf37877d",
        "colab": {
          "base_uri": "https://localhost:8080/",
          "height": 236
        }
      },
      "source": [
        "data.head(1)"
      ],
      "execution_count": 15,
      "outputs": [
        {
          "output_type": "execute_result",
          "data": {
            "text/html": [
              "<div>\n",
              "<style scoped>\n",
              "    .dataframe tbody tr th:only-of-type {\n",
              "        vertical-align: middle;\n",
              "    }\n",
              "\n",
              "    .dataframe tbody tr th {\n",
              "        vertical-align: top;\n",
              "    }\n",
              "\n",
              "    .dataframe thead th {\n",
              "        text-align: right;\n",
              "    }\n",
              "</style>\n",
              "<table border=\"1\" class=\"dataframe\">\n",
              "  <thead>\n",
              "    <tr style=\"text-align: right;\">\n",
              "      <th></th>\n",
              "      <th>Timestamp</th>\n",
              "      <th>Email Address</th>\n",
              "      <th>Your name</th>\n",
              "      <th>Grocery store</th>\n",
              "      <th>Grocery store street address</th>\n",
              "      <th>Product 1 quantity (kg)</th>\n",
              "      <th>Product 1 price</th>\n",
              "      <th>Product 2 quantity (kg)</th>\n",
              "      <th>Product 2 price</th>\n",
              "      <th>Product 3 quantity (kg)</th>\n",
              "      <th>Product 3 price</th>\n",
              "      <th>Product 1 quantity (kg).1</th>\n",
              "      <th>Product 1 price.1</th>\n",
              "      <th>Product 2 quantity (kg).1</th>\n",
              "      <th>Product 2 price.1</th>\n",
              "      <th>Product 3 quantity (kg).1</th>\n",
              "      <th>Product 3 price.1</th>\n",
              "      <th>Product 1 quantity (kg).2</th>\n",
              "      <th>Product 1 price.2</th>\n",
              "      <th>Product 2 quantity (kg).2</th>\n",
              "      <th>Product 2 price.2</th>\n",
              "      <th>Product 3 quantity (kg).2</th>\n",
              "      <th>Product 3 price.2</th>\n",
              "      <th>Product 1 quantity (kg).3</th>\n",
              "      <th>Product 1 price.3</th>\n",
              "      <th>Product 2 quantity (kg).3</th>\n",
              "      <th>Product 2 price.3</th>\n",
              "      <th>Product 3 quantity (kg).3</th>\n",
              "      <th>Product 3 price.3</th>\n",
              "      <th>Product 1 quantity (kg).4</th>\n",
              "      <th>Product 1 price.4</th>\n",
              "      <th>Product 2 quantity (kg).4</th>\n",
              "      <th>Product 2 price.4</th>\n",
              "      <th>Product 3 quantity (kg).4</th>\n",
              "      <th>Product 3 price.4</th>\n",
              "      <th>Product 1 quantity (kg).5</th>\n",
              "      <th>Product 1 price.5</th>\n",
              "      <th>Product 2 quantity (kg).5</th>\n",
              "      <th>Product 2 price.5</th>\n",
              "      <th>Product 3 quantity (kg).5</th>\n",
              "      <th>Product 3 price.5</th>\n",
              "      <th>Product 1 quantity (liters)</th>\n",
              "      <th>Product 1 price.6</th>\n",
              "      <th>Product 2 quantity (liters)</th>\n",
              "      <th>Product 2 price.6</th>\n",
              "      <th>Product 3 quantity (liters)</th>\n",
              "      <th>Product 3 price.6</th>\n",
              "      <th>Product 1 quantity (kg).6</th>\n",
              "      <th>Product 1 price.7</th>\n",
              "      <th>Product 2 quantity (kg).6</th>\n",
              "      <th>Product 2 price.7</th>\n",
              "      <th>Product 3 quantity (kg).6</th>\n",
              "      <th>Product 3 price.7</th>\n",
              "      <th>Product 1 quantity (count)</th>\n",
              "      <th>Product 1 price.8</th>\n",
              "      <th>Product 2 quantity (count)</th>\n",
              "      <th>Product 2 price.8</th>\n",
              "      <th>Product 3 quantity (count)</th>\n",
              "      <th>Product 3 price.8</th>\n",
              "      <th>Product 1 quantity (kg).7</th>\n",
              "      <th>Product 1 price.9</th>\n",
              "      <th>Product 2 quantity (kg).7</th>\n",
              "      <th>Product 2 price.9</th>\n",
              "      <th>Product 3 quantity (kg).7</th>\n",
              "      <th>Product 3 price.9</th>\n",
              "    </tr>\n",
              "  </thead>\n",
              "  <tbody>\n",
              "    <tr>\n",
              "      <th>0</th>\n",
              "      <td>3/2/2020 19:09:54</td>\n",
              "      <td>antoniostark@minerva.kgi.edu</td>\n",
              "      <td>Antonio Stark</td>\n",
              "      <td>Wellcome</td>\n",
              "      <td>Wellcome, No. 145, Section 1, Heping East Road...</td>\n",
              "      <td>0.6</td>\n",
              "      <td>198.0</td>\n",
              "      <td>0.4</td>\n",
              "      <td>138.0</td>\n",
              "      <td>1.2</td>\n",
              "      <td>478.0</td>\n",
              "      <td>0.14</td>\n",
              "      <td>20.0</td>\n",
              "      <td>NaN</td>\n",
              "      <td>NaN</td>\n",
              "      <td>NaN</td>\n",
              "      <td>NaN</td>\n",
              "      <td>0.5</td>\n",
              "      <td>158.0</td>\n",
              "      <td>0.5</td>\n",
              "      <td>118.0</td>\n",
              "      <td>0.5</td>\n",
              "      <td>136.0</td>\n",
              "      <td>0.6</td>\n",
              "      <td>118.0</td>\n",
              "      <td>1.0</td>\n",
              "      <td>130.0</td>\n",
              "      <td>1.0</td>\n",
              "      <td>90.0</td>\n",
              "      <td>0.1</td>\n",
              "      <td>21.0</td>\n",
              "      <td>0.1</td>\n",
              "      <td>12.0</td>\n",
              "      <td>1.0</td>\n",
              "      <td>118.0</td>\n",
              "      <td>1.0</td>\n",
              "      <td>253.34</td>\n",
              "      <td>2.5</td>\n",
              "      <td>458.0</td>\n",
              "      <td>1.0</td>\n",
              "      <td>112.66</td>\n",
              "      <td>0.1</td>\n",
              "      <td>17.94</td>\n",
              "      <td>0.1</td>\n",
              "      <td>18.28</td>\n",
              "      <td>0.1</td>\n",
              "      <td>17.86</td>\n",
              "      <td>0.01</td>\n",
              "      <td>16.26</td>\n",
              "      <td>0.1</td>\n",
              "      <td>170.0</td>\n",
              "      <td>0.1</td>\n",
              "      <td>254.4</td>\n",
              "      <td>10.0</td>\n",
              "      <td>190.0</td>\n",
              "      <td>10.0</td>\n",
              "      <td>96.0</td>\n",
              "      <td>10.0</td>\n",
              "      <td>158.0</td>\n",
              "      <td>0.16</td>\n",
              "      <td>198.0</td>\n",
              "      <td>0.25</td>\n",
              "      <td>158.0</td>\n",
              "      <td>0.1</td>\n",
              "      <td>50.0</td>\n",
              "    </tr>\n",
              "  </tbody>\n",
              "</table>\n",
              "</div>"
            ],
            "text/plain": [
              "           Timestamp  ... Product 3 price.9\n",
              "0  3/2/2020 19:09:54  ...              50.0\n",
              "\n",
              "[1 rows x 65 columns]"
            ]
          },
          "metadata": {
            "tags": []
          },
          "execution_count": 15
        }
      ]
    },
    {
      "cell_type": "code",
      "metadata": {
        "id": "3Mqg1Jsf1ADw",
        "colab_type": "code",
        "outputId": "e563f32c-2149-4087-873a-61ec3059ef56",
        "colab": {
          "base_uri": "https://localhost:8080/",
          "height": 34
        }
      },
      "source": [
        "'''\n",
        "Now we should merge these two data frames\n",
        "We should finally have one data set with 38 rows\n",
        "in which we can merge the product information \n",
        "with their respective store and neighborhood.\n",
        "\n",
        "We can do this by observing the Grocery store street address column\n",
        "in the data dataframe, and the Supermarket columnn in the Supermarkets dataframe\n",
        "\n",
        "'''\n",
        "\n",
        "data['Grocery store street address'].nunique()"
      ],
      "execution_count": 16,
      "outputs": [
        {
          "output_type": "execute_result",
          "data": {
            "text/plain": [
              "38"
            ]
          },
          "metadata": {
            "tags": []
          },
          "execution_count": 16
        }
      ]
    },
    {
      "cell_type": "code",
      "metadata": {
        "id": "3QvR0D4p3wuo",
        "colab_type": "code",
        "outputId": "97968efa-f35c-42ee-fde6-34159630f2b3",
        "colab": {
          "base_uri": "https://localhost:8080/",
          "height": 680
        }
      },
      "source": [
        "'''\n",
        "We can observe that some of the data does not start with the Supermarket name\n",
        "this can be problemative when trying to merge with the other datafrmae\n",
        "Something positive is that the rest of the address seems to match with the column \n",
        "in the other dataset.\n",
        "\n",
        "'''\n",
        "\n",
        "data['Grocery store street address'].unique()"
      ],
      "execution_count": 17,
      "outputs": [
        {
          "output_type": "execute_result",
          "data": {
            "text/plain": [
              "array(['Wellcome, No. 145, Section 1, Heping East Road, Da’an District, Taipei City, Taiwan 106',\n",
              "       'Carrefour Market, Av. Corrientes 1160, 1043 CABA, Argentina',\n",
              "       'Supermercados Día, Av. Corrientes 3534, C1194 AAO, Buenos Aires, Argentina',\n",
              "       'Jumbo, Av. Santa Fe 4950, C1425 BHY, Buenos Aires, Argentina',\n",
              "       'Jumbo, Guardia Vieja 4558, C1192 CABA, Argentina',\n",
              "       'Supermercados Día, Buenos Aires, Paraguay 788, C1057 AAJ, Argentina',\n",
              "       ' Supermercados Día, Buenos Aires, Defensa 748, C1065 AAN, Argentina',\n",
              "       '235, New Taipei City, Zhonghe District, Section 2, Zhongshan Road, 295號B1',\n",
              "       'Wellcome, 106, Taiwan, Taipei City, Da’an District, Section 3, Roosevelt Rd, 285號',\n",
              "       'Carrefour, No. 1, Guilin Road, Wanhua District, Taipei City, Taiwan 108',\n",
              "       'Carrefour, 100, Taiwan, Taipei City, Zhongzheng District, Section 2, Jinan Road, 46號B1',\n",
              "       'Carrefour, No. 276號, Jinzhou Street, Zhongshan District, Taipei City, Taiwan 10477',\n",
              "       \"Wellcome, No. 71, Tong'an Street, Zhongzheng District, Taipei City, Taiwan 100\",\n",
              "       'Wellcome, 106, Taiwan, Taipei City, Da’an District, Section 3, Xinsheng South Road, 2號',\n",
              "       'Carrefour, No. 499-1, Zhonghe Road, Yonghe District, New Taipei City, Taiwan 234',\n",
              "       'Sarmiento 3978, C1425 FGQ, Argentina',\n",
              "       'Wellcome, No. 129, Shida Road, Da’an District, Taipei City, Taiwan 106',\n",
              "       'Arenales 870, C1061 CABA',\n",
              "       'Carrefour Market, Av. Santa Fe 1954, C1123 CABA, Argentina',\n",
              "       'Carrefour Market, Vicente López 1676, C1018 ABB, Buenos Aires, Argentina',\n",
              "       'Supermercados Día, Fitz Roy 2292, C1425 FVD, Buenos Aires, Argentina',\n",
              "       'Av. Acoyte 702, C1405 BGS, Buenos Aires',\n",
              "       'Supermercados Día, Av. Rivadavia 3566, C1204 AAN, Buenos Aires, Argentina',\n",
              "       'Av. Gaona 1290, Buenos Aires',\n",
              "       'Carrefour Market, Av. Córdoba 1631, C1055 CABA, Argentina',\n",
              "       'Supermercados Día, Av. Rivadavia 674, C1002 AAR, Buenos Aires, Argentina',\n",
              "       'Supermercados Día, Buenos Aires, Raúl Scalabrini Ortíz 3170, C1425 DBZ, Argentina',\n",
              "       'Carrefour Market, Raúl Scalabrini Ortíz 3128, C1425 CABA, Argentina',\n",
              "       ' Av. Córdoba 2529, C1120 CABA',\n",
              "       'Av. Gral. Las Heras 2564, C1425ASP CABA',\n",
              "       'Supermercados Día, Av. Rivadavia 1177, C1033 AAB, Buenos Aires, Argentina',\n",
              "       'Supermercados Día, C1426AJS AJS, Amenábar 1145, C1426 Buenos Aires, Argentina',\n",
              "       'Carrefour Market, Av. Rivadavia 3221, C1179 CABA, Argentina',\n",
              "       'Supermercados Día, Junín 638, C1026 ABN, Buenos Aires, Argentina',\n",
              "       'Jumba, Av. Cerviño 4860, C1425 AIO, Buenos Aires, Argentina',\n",
              "       'Carrefour Market, Av. Rivadavia 2243, C1034 CABA, Argentina',\n",
              "       'Av. Santa Fe 3368, C1425 CABA',\n",
              "       'Carrefour Market, Raúl Scalabrini Ortíz 1840, C1414 CABA, Argentina'],\n",
              "      dtype=object)"
            ]
          },
          "metadata": {
            "tags": []
          },
          "execution_count": 17
        }
      ]
    },
    {
      "cell_type": "code",
      "metadata": {
        "id": "6rCxMXs24LYf",
        "colab_type": "code",
        "outputId": "b9cd89d6-72df-462e-9668-e73808b2c5fa",
        "colab": {
          "base_uri": "https://localhost:8080/",
          "height": 850
        }
      },
      "source": [
        "'''\n",
        "The reason why we have more rows here is because the professor offered some extra \n",
        "options to choose for students in case that the assigned was inconvenient.\n",
        "\n",
        "'''\n",
        "\n",
        "print(supermarkets['Supermarket'].nunique())\n",
        "supermarkets['Supermarket'].unique()"
      ],
      "execution_count": 18,
      "outputs": [
        {
          "output_type": "stream",
          "text": [
            "47\n"
          ],
          "name": "stdout"
        },
        {
          "output_type": "execute_result",
          "data": {
            "text/plain": [
              "array(['Supermercados Día, Av. Rivadavia 1177, C1033 AAB, Buenos Aires, Argentina',\n",
              "       'Supermercados Día, C1426AJS AJS, Amenábar 1145, C1426 Buenos Aires, Argentina',\n",
              "       'Supermercados Día, Buenos Aires, Defensa 748, C1065 AAN, Argentina',\n",
              "       'Jumbo, Av. Santa Fe 4950, C1425 BHY, Buenos Aires, Argentina',\n",
              "       'Supermercados Día, Buenos Aires, Raúl Scalabrini Ortíz 3170, C1425 DBZ, Argentina',\n",
              "       'Carrefour Market, Raúl Scalabrini Ortíz 3128, C1425 CABA, Argentina',\n",
              "       'Carrefour Market, Av. Córdoba 2529, C1120 CABA, Argentina',\n",
              "       'Jumbo, Av. Gral. Las Heras 2564, C1425 CABA, Argentina',\n",
              "       'Supermercados Día, Buenos Aires, Paraguay 788, C1057 AAJ, Argentina',\n",
              "       'Jumbo, Guardia Vieja 4558, C1192 CABA, Argentina',\n",
              "       'Carrefour Market, Av. Corrientes 1160, 1043 CABA, Argentina',\n",
              "       'Supermercados Día, Av. Corrientes 3534, C1194 AAO, Buenos Aires, Argentina',\n",
              "       'Supermercados Día, C1416DRC, Av. Gaona 1290, Buenos Aires, Argentina',\n",
              "       'Jumbo, Av. Acoyte 702, C1405 BGS, Buenos Aires, Argentina',\n",
              "       'Carrefour Market, Vicente López 1676, C1018 ABB, Buenos Aires, Argentina',\n",
              "       'Supermercados Día, Fitz Roy 2292, C1425 FVD, Buenos Aires, Argentina',\n",
              "       'Carrefour Market, Beruti 2951, C1425 CABA, Argentina',\n",
              "       'Carrefour Market, Av. Santa Fe 3368, C1425 CABA, Argentina',\n",
              "       'Carrefour Market, Av. Córdoba 1631, C1055 CABA, Argentina',\n",
              "       'Supermercados Día, Av. Rivadavia 674, C1002 AAR, Buenos Aires, Argentina',\n",
              "       'Jumbo, Arenales 870, C1061 CABA, Argentina',\n",
              "       'Supermercados Día, Buenos Aires AR, Sarmiento 3978, C1425 FGQ, Argentina',\n",
              "       'Carrefour Market, Av. Santa Fe 1954, C1123 CABA, Argentina',\n",
              "       'Supermercados Día, Av. Rivadavia 3566, C1204 AAN, Buenos Aires, Argentina',\n",
              "       'Carrefour Market, Av. Rivadavia 2243, C1034 CABA, Argentina',\n",
              "       'Jumba, Av. Cerviño 4860, C1425 AIO, Buenos Aires, Argentina',\n",
              "       'Supermercados Día, Junín 638, C1026 ABN, Buenos Aires, Argentina',\n",
              "       'Carrefour Market, Av. Rivadavia 3221, C1179 CABA, Argentina',\n",
              "       'Supermercados Día, Av. Entre Ríos 735, C1080 ABB, Buenos Aires, Argentina',\n",
              "       'Jumbo, Lola Mora 450, C1107 DDB, Buenos Aires, Argentina',\n",
              "       'Carrefour Market, Raúl Scalabrini Ortíz 1840, C1414 CABA, Argentina',\n",
              "       'Supermercados Día, Hidalgo 860, C1405 BCN, Buenos Aires, Argentina',\n",
              "       'Supermercados Día, Buenos Aires AR, El Salvador 5675, C1414 BQE, Argentina',\n",
              "       'Wellcome, No. 145, Section 1, Heping East Road, Da’an District, Taipei City, Taiwan 106',\n",
              "       'Carrefour, 100, Taiwan, Taipei City, Zhongzheng District, Section 2, Jinan Road, 46號B1',\n",
              "       \"Wellcome, No. 71, Tong'an Street, Zhongzheng District, Taipei City, Taiwan 100\",\n",
              "       'Carrefour, No. 276號, Jinzhou Street, Zhongshan District, Taipei City, Taiwan 10477',\n",
              "       'Wellcome, No. 129, Shida Road, Da’an District, Taipei City, Taiwan 106',\n",
              "       'Carrefour, 235, Taiwan, New Taipei City, Zhonghe District, Section 2, Zhongshan Road, 295號B1',\n",
              "       'Wellcome, 106, Taiwan, Taipei City, Da’an District, Section 3, Roosevelt Rd, 285號',\n",
              "       'Carrefour, No. 1, Guilin Road, Wanhua District, Taipei City, Taiwan 108',\n",
              "       'Carrefour, No. 499-1, Zhonghe Road, Yonghe District, New Taipei City, Taiwan 234',\n",
              "       'Wellcome, 106, Taiwan, Taipei City, Da’an District, Section 3, Xinsheng South Road, 2號',\n",
              "       'PX Mart, 號1樓, No. 45, Taishun Street, Da’an District, Taipei City, Taiwan 10645',\n",
              "       'Carrefour, 220, Taiwan, New Taipei City, Banqiao District, Section 2, Wenhua Road, 313號B1',\n",
              "       'Carrefour, No. 171號, Section 2, Chongqing North Road, Datong District, Taipei City, Taiwan 103',\n",
              "       'Carrefour, 220, Taiwan, New Taipei City, Banqiao District, Section 2, Sanmin Road, 31號B1'],\n",
              "      dtype=object)"
            ]
          },
          "metadata": {
            "tags": []
          },
          "execution_count": 18
        }
      ]
    },
    {
      "cell_type": "code",
      "metadata": {
        "id": "P4rUX1Jo5Tnz",
        "colab_type": "code",
        "colab": {}
      },
      "source": [
        "'''\n",
        "for this we can create a function that gets the closest match of a string\n",
        "Return a list of the best “good enough” matches. \n",
        "word is a string for which close matches are desired,\n",
        "and possibilities is a list of sequences against which to match word.\n",
        "n is the maximum number of close matches to return, in this case 1.\n",
        "If we do not fin close match we will return none\n",
        "\n",
        "Thanks to Nikesh for the idea of using this specific function and library.\n",
        "'''\n",
        "\n",
        "def match_address(word, possibilities):\n",
        "    match = difflib.get_close_matches(word, possibilities, n=1)\n",
        "    if len(match) == 0: match.append('None')\n",
        "    return match[0]"
      ],
      "execution_count": 0,
      "outputs": []
    },
    {
      "cell_type": "code",
      "metadata": {
        "id": "Kx8yTuM7-UoI",
        "colab_type": "code",
        "colab": {}
      },
      "source": [
        "data['Grocery store street address']= data['Grocery store street address'].apply(lambda x: match_address(x, supermarkets['Supermarket']))"
      ],
      "execution_count": 0,
      "outputs": []
    },
    {
      "cell_type": "code",
      "metadata": {
        "id": "kk9Er5PPBv8H",
        "colab_type": "code",
        "outputId": "81820beb-6067-4cee-be4b-7eedfa8b101c",
        "colab": {
          "base_uri": "https://localhost:8080/",
          "height": 680
        }
      },
      "source": [
        "data['Grocery store street address']"
      ],
      "execution_count": 21,
      "outputs": [
        {
          "output_type": "execute_result",
          "data": {
            "text/plain": [
              "0     Wellcome, No. 145, Section 1, Heping East Road...\n",
              "1     Carrefour Market, Av. Corrientes 1160, 1043 CA...\n",
              "2     Supermercados Día, Av. Corrientes 3534, C1194 ...\n",
              "3     Jumbo, Av. Santa Fe 4950, C1425 BHY, Buenos Ai...\n",
              "4      Jumbo, Guardia Vieja 4558, C1192 CABA, Argentina\n",
              "5     Supermercados Día, Buenos Aires, Paraguay 788,...\n",
              "6     Supermercados Día, Buenos Aires, Defensa 748, ...\n",
              "7     Carrefour, 235, Taiwan, New Taipei City, Zhong...\n",
              "8     Wellcome, 106, Taiwan, Taipei City, Da’an Dist...\n",
              "9     Carrefour, No. 1, Guilin Road, Wanhua District...\n",
              "10    Carrefour, 100, Taiwan, Taipei City, Zhongzhen...\n",
              "11    Carrefour, No. 276號, Jinzhou Street, Zhongshan...\n",
              "12    Wellcome, No. 71, Tong'an Street, Zhongzheng D...\n",
              "13    Wellcome, 106, Taiwan, Taipei City, Da’an Dist...\n",
              "14    Carrefour, No. 499-1, Zhonghe Road, Yonghe Dis...\n",
              "15    Supermercados Día, Buenos Aires AR, Sarmiento ...\n",
              "16    Wellcome, No. 129, Shida Road, Da’an District,...\n",
              "17           Jumbo, Arenales 870, C1061 CABA, Argentina\n",
              "18    Carrefour Market, Av. Santa Fe 1954, C1123 CAB...\n",
              "19    Carrefour Market, Vicente López 1676, C1018 AB...\n",
              "20    Supermercados Día, Fitz Roy 2292, C1425 FVD, B...\n",
              "21    Jumbo, Av. Acoyte 702, C1405 BGS, Buenos Aires...\n",
              "22    Supermercados Día, Av. Rivadavia 3566, C1204 A...\n",
              "23                                                 None\n",
              "24    Carrefour Market, Av. Córdoba 1631, C1055 CABA...\n",
              "25    Supermercados Día, Av. Rivadavia 674, C1002 AA...\n",
              "26    Supermercados Día, Buenos Aires, Raúl Scalabri...\n",
              "27    Carrefour Market, Raúl Scalabrini Ortíz 3128, ...\n",
              "28    Carrefour Market, Av. Córdoba 2529, C1120 CABA...\n",
              "29    Jumbo, Av. Gral. Las Heras 2564, C1425 CABA, A...\n",
              "30    Supermercados Día, Av. Rivadavia 1177, C1033 A...\n",
              "31    Supermercados Día, C1426AJS AJS, Amenábar 1145...\n",
              "32    Carrefour Market, Av. Rivadavia 3221, C1179 CA...\n",
              "33    Supermercados Día, Junín 638, C1026 ABN, Bueno...\n",
              "34    Jumba, Av. Cerviño 4860, C1425 AIO, Buenos Air...\n",
              "35    Carrefour Market, Av. Rivadavia 2243, C1034 CA...\n",
              "38    Carrefour Market, Av. Santa Fe 3368, C1425 CAB...\n",
              "39    Carrefour Market, Raúl Scalabrini Ortíz 1840, ...\n",
              "Name: Grocery store street address, dtype: object"
            ]
          },
          "metadata": {
            "tags": []
          },
          "execution_count": 21
        }
      ]
    },
    {
      "cell_type": "code",
      "metadata": {
        "id": "nPYVm4aWGaNv",
        "colab_type": "code",
        "outputId": "1c47231e-1678-41f9-f733-53a732c10afd",
        "colab": {
          "base_uri": "https://localhost:8080/",
          "height": 34
        }
      },
      "source": [
        "# Lets check who is the misterious person who does not match the supermarket\n",
        "list(data[data['Grocery store street address']== 'None']['Your name'])"
      ],
      "execution_count": 22,
      "outputs": [
        {
          "output_type": "execute_result",
          "data": {
            "text/plain": [
              "['Julia Minichelli']"
            ]
          },
          "metadata": {
            "tags": []
          },
          "execution_count": 22
        }
      ]
    },
    {
      "cell_type": "code",
      "metadata": {
        "id": "rnsdBgcnRcmw",
        "colab_type": "code",
        "colab": {}
      },
      "source": [
        "# We will just manually update this address since it is just one data point\n",
        "data.at[23, 'Grocery store street address'] = 'Supermercados Día, C1416DRC, Av. Gaona 1290, Buenos Aires, Argentina'"
      ],
      "execution_count": 0,
      "outputs": []
    },
    {
      "cell_type": "code",
      "metadata": {
        "id": "BaIc7HBx7mdZ",
        "colab_type": "code",
        "colab": {}
      },
      "source": [
        "# Renaming columns\n",
        "data = data.rename(columns = {\"Your name\": \"Student\", \"Grocery store street address\": \"Supermarket\"})"
      ],
      "execution_count": 0,
      "outputs": []
    },
    {
      "cell_type": "code",
      "metadata": {
        "id": "pHyNthpKEX1-",
        "colab_type": "code",
        "colab": {}
      },
      "source": [
        "# Finally we can merge all the data points\n",
        "full_data = data.merge(supermarkets, on = 'Supermarket')"
      ],
      "execution_count": 0,
      "outputs": []
    },
    {
      "cell_type": "code",
      "metadata": {
        "id": "57PpFNh-SYii",
        "colab_type": "code",
        "outputId": "7f18d8a1-3dc8-4621-ced4-6ccf595ab915",
        "colab": {
          "base_uri": "https://localhost:8080/",
          "height": 219
        }
      },
      "source": [
        "print(len(full_data))\n",
        "full_data.head(1)"
      ],
      "execution_count": 26,
      "outputs": [
        {
          "output_type": "stream",
          "text": [
            "38\n"
          ],
          "name": "stdout"
        },
        {
          "output_type": "execute_result",
          "data": {
            "text/html": [
              "<div>\n",
              "<style scoped>\n",
              "    .dataframe tbody tr th:only-of-type {\n",
              "        vertical-align: middle;\n",
              "    }\n",
              "\n",
              "    .dataframe tbody tr th {\n",
              "        vertical-align: top;\n",
              "    }\n",
              "\n",
              "    .dataframe thead th {\n",
              "        text-align: right;\n",
              "    }\n",
              "</style>\n",
              "<table border=\"1\" class=\"dataframe\">\n",
              "  <thead>\n",
              "    <tr style=\"text-align: right;\">\n",
              "      <th></th>\n",
              "      <th>Timestamp</th>\n",
              "      <th>Email Address</th>\n",
              "      <th>Student</th>\n",
              "      <th>Grocery store</th>\n",
              "      <th>Supermarket</th>\n",
              "      <th>Product 1 quantity (kg)</th>\n",
              "      <th>Product 1 price</th>\n",
              "      <th>Product 2 quantity (kg)</th>\n",
              "      <th>Product 2 price</th>\n",
              "      <th>Product 3 quantity (kg)</th>\n",
              "      <th>Product 3 price</th>\n",
              "      <th>Product 1 quantity (kg).1</th>\n",
              "      <th>Product 1 price.1</th>\n",
              "      <th>Product 2 quantity (kg).1</th>\n",
              "      <th>Product 2 price.1</th>\n",
              "      <th>Product 3 quantity (kg).1</th>\n",
              "      <th>Product 3 price.1</th>\n",
              "      <th>Product 1 quantity (kg).2</th>\n",
              "      <th>Product 1 price.2</th>\n",
              "      <th>Product 2 quantity (kg).2</th>\n",
              "      <th>Product 2 price.2</th>\n",
              "      <th>Product 3 quantity (kg).2</th>\n",
              "      <th>Product 3 price.2</th>\n",
              "      <th>Product 1 quantity (kg).3</th>\n",
              "      <th>Product 1 price.3</th>\n",
              "      <th>Product 2 quantity (kg).3</th>\n",
              "      <th>Product 2 price.3</th>\n",
              "      <th>Product 3 quantity (kg).3</th>\n",
              "      <th>Product 3 price.3</th>\n",
              "      <th>Product 1 quantity (kg).4</th>\n",
              "      <th>Product 1 price.4</th>\n",
              "      <th>Product 2 quantity (kg).4</th>\n",
              "      <th>Product 2 price.4</th>\n",
              "      <th>Product 3 quantity (kg).4</th>\n",
              "      <th>Product 3 price.4</th>\n",
              "      <th>Product 1 quantity (kg).5</th>\n",
              "      <th>Product 1 price.5</th>\n",
              "      <th>Product 2 quantity (kg).5</th>\n",
              "      <th>Product 2 price.5</th>\n",
              "      <th>Product 3 quantity (kg).5</th>\n",
              "      <th>Product 3 price.5</th>\n",
              "      <th>Product 1 quantity (liters)</th>\n",
              "      <th>Product 1 price.6</th>\n",
              "      <th>Product 2 quantity (liters)</th>\n",
              "      <th>Product 2 price.6</th>\n",
              "      <th>Product 3 quantity (liters)</th>\n",
              "      <th>Product 3 price.6</th>\n",
              "      <th>Product 1 quantity (kg).6</th>\n",
              "      <th>Product 1 price.7</th>\n",
              "      <th>Product 2 quantity (kg).6</th>\n",
              "      <th>Product 2 price.7</th>\n",
              "      <th>Product 3 quantity (kg).6</th>\n",
              "      <th>Product 3 price.7</th>\n",
              "      <th>Product 1 quantity (count)</th>\n",
              "      <th>Product 1 price.8</th>\n",
              "      <th>Product 2 quantity (count)</th>\n",
              "      <th>Product 2 price.8</th>\n",
              "      <th>Product 3 quantity (count)</th>\n",
              "      <th>Product 3 price.8</th>\n",
              "      <th>Product 1 quantity (kg).7</th>\n",
              "      <th>Product 1 price.9</th>\n",
              "      <th>Product 2 quantity (kg).7</th>\n",
              "      <th>Product 2 price.9</th>\n",
              "      <th>Product 3 quantity (kg).7</th>\n",
              "      <th>Product 3 price.9</th>\n",
              "      <th>Student index</th>\n",
              "      <th>Student name (alphabetical)</th>\n",
              "      <th>Map location</th>\n",
              "      <th>Estimated travel time (min)</th>\n",
              "      <th>Neighborhood</th>\n",
              "    </tr>\n",
              "  </thead>\n",
              "  <tbody>\n",
              "    <tr>\n",
              "      <th>0</th>\n",
              "      <td>3/2/2020 19:09:54</td>\n",
              "      <td>antoniostark@minerva.kgi.edu</td>\n",
              "      <td>Antonio Stark</td>\n",
              "      <td>Wellcome</td>\n",
              "      <td>Wellcome, No. 145, Section 1, Heping East Road...</td>\n",
              "      <td>0.6</td>\n",
              "      <td>198.0</td>\n",
              "      <td>0.4</td>\n",
              "      <td>138.0</td>\n",
              "      <td>1.2</td>\n",
              "      <td>478.0</td>\n",
              "      <td>0.14</td>\n",
              "      <td>20.0</td>\n",
              "      <td>NaN</td>\n",
              "      <td>NaN</td>\n",
              "      <td>NaN</td>\n",
              "      <td>NaN</td>\n",
              "      <td>0.5</td>\n",
              "      <td>158.0</td>\n",
              "      <td>0.5</td>\n",
              "      <td>118.0</td>\n",
              "      <td>0.5</td>\n",
              "      <td>136.0</td>\n",
              "      <td>0.6</td>\n",
              "      <td>118.0</td>\n",
              "      <td>1.0</td>\n",
              "      <td>130.0</td>\n",
              "      <td>1.0</td>\n",
              "      <td>90.0</td>\n",
              "      <td>0.1</td>\n",
              "      <td>21.0</td>\n",
              "      <td>0.1</td>\n",
              "      <td>12.0</td>\n",
              "      <td>1.0</td>\n",
              "      <td>118.0</td>\n",
              "      <td>1.0</td>\n",
              "      <td>253.34</td>\n",
              "      <td>2.5</td>\n",
              "      <td>458.0</td>\n",
              "      <td>1.0</td>\n",
              "      <td>112.66</td>\n",
              "      <td>0.1</td>\n",
              "      <td>17.94</td>\n",
              "      <td>0.1</td>\n",
              "      <td>18.28</td>\n",
              "      <td>0.1</td>\n",
              "      <td>17.86</td>\n",
              "      <td>0.01</td>\n",
              "      <td>16.26</td>\n",
              "      <td>0.1</td>\n",
              "      <td>170.0</td>\n",
              "      <td>0.1</td>\n",
              "      <td>254.4</td>\n",
              "      <td>10.0</td>\n",
              "      <td>190.0</td>\n",
              "      <td>10.0</td>\n",
              "      <td>96.0</td>\n",
              "      <td>10.0</td>\n",
              "      <td>158.0</td>\n",
              "      <td>0.16</td>\n",
              "      <td>198.0</td>\n",
              "      <td>0.25</td>\n",
              "      <td>158.0</td>\n",
              "      <td>0.1</td>\n",
              "      <td>50.0</td>\n",
              "      <td>3</td>\n",
              "      <td>Antonio</td>\n",
              "      <td>https://goo.gl/maps/Lo49cw1euuKbGYEu8</td>\n",
              "      <td>10</td>\n",
              "      <td>Taipei</td>\n",
              "    </tr>\n",
              "  </tbody>\n",
              "</table>\n",
              "</div>"
            ],
            "text/plain": [
              "           Timestamp  ... Neighborhood\n",
              "0  3/2/2020 19:09:54  ...       Taipei\n",
              "\n",
              "[1 rows x 70 columns]"
            ]
          },
          "metadata": {
            "tags": []
          },
          "execution_count": 26
        }
      ]
    },
    {
      "cell_type": "code",
      "metadata": {
        "id": "9KhPGXiU0wuD",
        "colab_type": "code",
        "outputId": "05c5e456-3b3d-4365-c3ed-77d241ce5970",
        "colab": {
          "base_uri": "https://localhost:8080/",
          "height": 202
        }
      },
      "source": [
        "# Now we can first delete unnecessary columns from the data dataset\n",
        "full_data = full_data.drop(columns = ['Timestamp', 'Email Address', 'Student index', 'Student name (alphabetical)', 'Map location', 'Estimated travel time (min)'])\n",
        "full_data.head(1)"
      ],
      "execution_count": 27,
      "outputs": [
        {
          "output_type": "execute_result",
          "data": {
            "text/html": [
              "<div>\n",
              "<style scoped>\n",
              "    .dataframe tbody tr th:only-of-type {\n",
              "        vertical-align: middle;\n",
              "    }\n",
              "\n",
              "    .dataframe tbody tr th {\n",
              "        vertical-align: top;\n",
              "    }\n",
              "\n",
              "    .dataframe thead th {\n",
              "        text-align: right;\n",
              "    }\n",
              "</style>\n",
              "<table border=\"1\" class=\"dataframe\">\n",
              "  <thead>\n",
              "    <tr style=\"text-align: right;\">\n",
              "      <th></th>\n",
              "      <th>Student</th>\n",
              "      <th>Grocery store</th>\n",
              "      <th>Supermarket</th>\n",
              "      <th>Product 1 quantity (kg)</th>\n",
              "      <th>Product 1 price</th>\n",
              "      <th>Product 2 quantity (kg)</th>\n",
              "      <th>Product 2 price</th>\n",
              "      <th>Product 3 quantity (kg)</th>\n",
              "      <th>Product 3 price</th>\n",
              "      <th>Product 1 quantity (kg).1</th>\n",
              "      <th>Product 1 price.1</th>\n",
              "      <th>Product 2 quantity (kg).1</th>\n",
              "      <th>Product 2 price.1</th>\n",
              "      <th>Product 3 quantity (kg).1</th>\n",
              "      <th>Product 3 price.1</th>\n",
              "      <th>Product 1 quantity (kg).2</th>\n",
              "      <th>Product 1 price.2</th>\n",
              "      <th>Product 2 quantity (kg).2</th>\n",
              "      <th>Product 2 price.2</th>\n",
              "      <th>Product 3 quantity (kg).2</th>\n",
              "      <th>Product 3 price.2</th>\n",
              "      <th>Product 1 quantity (kg).3</th>\n",
              "      <th>Product 1 price.3</th>\n",
              "      <th>Product 2 quantity (kg).3</th>\n",
              "      <th>Product 2 price.3</th>\n",
              "      <th>Product 3 quantity (kg).3</th>\n",
              "      <th>Product 3 price.3</th>\n",
              "      <th>Product 1 quantity (kg).4</th>\n",
              "      <th>Product 1 price.4</th>\n",
              "      <th>Product 2 quantity (kg).4</th>\n",
              "      <th>Product 2 price.4</th>\n",
              "      <th>Product 3 quantity (kg).4</th>\n",
              "      <th>Product 3 price.4</th>\n",
              "      <th>Product 1 quantity (kg).5</th>\n",
              "      <th>Product 1 price.5</th>\n",
              "      <th>Product 2 quantity (kg).5</th>\n",
              "      <th>Product 2 price.5</th>\n",
              "      <th>Product 3 quantity (kg).5</th>\n",
              "      <th>Product 3 price.5</th>\n",
              "      <th>Product 1 quantity (liters)</th>\n",
              "      <th>Product 1 price.6</th>\n",
              "      <th>Product 2 quantity (liters)</th>\n",
              "      <th>Product 2 price.6</th>\n",
              "      <th>Product 3 quantity (liters)</th>\n",
              "      <th>Product 3 price.6</th>\n",
              "      <th>Product 1 quantity (kg).6</th>\n",
              "      <th>Product 1 price.7</th>\n",
              "      <th>Product 2 quantity (kg).6</th>\n",
              "      <th>Product 2 price.7</th>\n",
              "      <th>Product 3 quantity (kg).6</th>\n",
              "      <th>Product 3 price.7</th>\n",
              "      <th>Product 1 quantity (count)</th>\n",
              "      <th>Product 1 price.8</th>\n",
              "      <th>Product 2 quantity (count)</th>\n",
              "      <th>Product 2 price.8</th>\n",
              "      <th>Product 3 quantity (count)</th>\n",
              "      <th>Product 3 price.8</th>\n",
              "      <th>Product 1 quantity (kg).7</th>\n",
              "      <th>Product 1 price.9</th>\n",
              "      <th>Product 2 quantity (kg).7</th>\n",
              "      <th>Product 2 price.9</th>\n",
              "      <th>Product 3 quantity (kg).7</th>\n",
              "      <th>Product 3 price.9</th>\n",
              "      <th>Neighborhood</th>\n",
              "    </tr>\n",
              "  </thead>\n",
              "  <tbody>\n",
              "    <tr>\n",
              "      <th>0</th>\n",
              "      <td>Antonio Stark</td>\n",
              "      <td>Wellcome</td>\n",
              "      <td>Wellcome, No. 145, Section 1, Heping East Road...</td>\n",
              "      <td>0.6</td>\n",
              "      <td>198.0</td>\n",
              "      <td>0.4</td>\n",
              "      <td>138.0</td>\n",
              "      <td>1.2</td>\n",
              "      <td>478.0</td>\n",
              "      <td>0.14</td>\n",
              "      <td>20.0</td>\n",
              "      <td>NaN</td>\n",
              "      <td>NaN</td>\n",
              "      <td>NaN</td>\n",
              "      <td>NaN</td>\n",
              "      <td>0.5</td>\n",
              "      <td>158.0</td>\n",
              "      <td>0.5</td>\n",
              "      <td>118.0</td>\n",
              "      <td>0.5</td>\n",
              "      <td>136.0</td>\n",
              "      <td>0.6</td>\n",
              "      <td>118.0</td>\n",
              "      <td>1.0</td>\n",
              "      <td>130.0</td>\n",
              "      <td>1.0</td>\n",
              "      <td>90.0</td>\n",
              "      <td>0.1</td>\n",
              "      <td>21.0</td>\n",
              "      <td>0.1</td>\n",
              "      <td>12.0</td>\n",
              "      <td>1.0</td>\n",
              "      <td>118.0</td>\n",
              "      <td>1.0</td>\n",
              "      <td>253.34</td>\n",
              "      <td>2.5</td>\n",
              "      <td>458.0</td>\n",
              "      <td>1.0</td>\n",
              "      <td>112.66</td>\n",
              "      <td>0.1</td>\n",
              "      <td>17.94</td>\n",
              "      <td>0.1</td>\n",
              "      <td>18.28</td>\n",
              "      <td>0.1</td>\n",
              "      <td>17.86</td>\n",
              "      <td>0.01</td>\n",
              "      <td>16.26</td>\n",
              "      <td>0.1</td>\n",
              "      <td>170.0</td>\n",
              "      <td>0.1</td>\n",
              "      <td>254.4</td>\n",
              "      <td>10.0</td>\n",
              "      <td>190.0</td>\n",
              "      <td>10.0</td>\n",
              "      <td>96.0</td>\n",
              "      <td>10.0</td>\n",
              "      <td>158.0</td>\n",
              "      <td>0.16</td>\n",
              "      <td>198.0</td>\n",
              "      <td>0.25</td>\n",
              "      <td>158.0</td>\n",
              "      <td>0.1</td>\n",
              "      <td>50.0</td>\n",
              "      <td>Taipei</td>\n",
              "    </tr>\n",
              "  </tbody>\n",
              "</table>\n",
              "</div>"
            ],
            "text/plain": [
              "         Student Grocery store  ... Product 3 price.9  Neighborhood\n",
              "0  Antonio Stark      Wellcome  ...              50.0        Taipei\n",
              "\n",
              "[1 rows x 64 columns]"
            ]
          },
          "metadata": {
            "tags": []
          },
          "execution_count": 27
        }
      ]
    },
    {
      "cell_type": "code",
      "metadata": {
        "id": "KW_-ye2qEsP4",
        "colab_type": "code",
        "outputId": "34202f0c-d729-451d-922b-0ed37b0bac75",
        "colab": {
          "base_uri": "https://localhost:8080/",
          "height": 34
        }
      },
      "source": [
        "'''\n",
        "We can normalize our prices of each item by dividing the quantity by\n",
        "its price.\n",
        "\n",
        "In the original data frame, each item has 6 columns,\n",
        "     3 first alternates are the quantity\n",
        "     3 second alternates are the price\n",
        "and follows the same order as expressed below. \n",
        "\n",
        "We need to convert this into 3 columns for each item\n",
        "\n",
        "\n",
        "'''\n",
        "supermarket_items = ['Apples', \n",
        "                     'Bananas',\n",
        "                     'Tomatoes',\n",
        "                     'Potatoes',\n",
        "                     'Flour, white', \n",
        "                     'Rice, basmati', \n",
        "                     'Milk, full cream', \n",
        "                     'Butter',\n",
        "                     'Eggs', \n",
        "                     'Chicken breasts']\n",
        "\n",
        "data_items = pd.DataFrame()\n",
        "quant_idx = 3\n",
        "price_idx = 4\n",
        "\n",
        "for i in range(len(supermarket_items)): \n",
        "    item = supermarket_items[i]\n",
        "\n",
        "    for j in range(3):\n",
        "        title = '-'.join([item, str(j)])\n",
        "        data_items[title] = full_data.iloc[:,price_idx] / full_data.iloc[:,quant_idx] \n",
        "\n",
        "        quant_idx +=2\n",
        "        price_idx +=2\n"
      ],
      "execution_count": 28,
      "outputs": [
        {
          "output_type": "stream",
          "text": [
            "INFO:numexpr.utils:NumExpr defaulting to 2 threads.\n"
          ],
          "name": "stderr"
        }
      ]
    },
    {
      "cell_type": "code",
      "metadata": {
        "id": "-hGR_uItXyFv",
        "colab_type": "code",
        "outputId": "0956f965-f9e4-4c79-d3f8-6a108f1a5512",
        "colab": {
          "base_uri": "https://localhost:8080/",
          "height": 213
        }
      },
      "source": [
        "data_items.head(3)"
      ],
      "execution_count": 29,
      "outputs": [
        {
          "output_type": "execute_result",
          "data": {
            "text/html": [
              "<div>\n",
              "<style scoped>\n",
              "    .dataframe tbody tr th:only-of-type {\n",
              "        vertical-align: middle;\n",
              "    }\n",
              "\n",
              "    .dataframe tbody tr th {\n",
              "        vertical-align: top;\n",
              "    }\n",
              "\n",
              "    .dataframe thead th {\n",
              "        text-align: right;\n",
              "    }\n",
              "</style>\n",
              "<table border=\"1\" class=\"dataframe\">\n",
              "  <thead>\n",
              "    <tr style=\"text-align: right;\">\n",
              "      <th></th>\n",
              "      <th>Apples-0</th>\n",
              "      <th>Apples-1</th>\n",
              "      <th>Apples-2</th>\n",
              "      <th>Bananas-0</th>\n",
              "      <th>Bananas-1</th>\n",
              "      <th>Bananas-2</th>\n",
              "      <th>Tomatoes-0</th>\n",
              "      <th>Tomatoes-1</th>\n",
              "      <th>Tomatoes-2</th>\n",
              "      <th>Potatoes-0</th>\n",
              "      <th>Potatoes-1</th>\n",
              "      <th>Potatoes-2</th>\n",
              "      <th>Flour, white-0</th>\n",
              "      <th>Flour, white-1</th>\n",
              "      <th>Flour, white-2</th>\n",
              "      <th>Rice, basmati-0</th>\n",
              "      <th>Rice, basmati-1</th>\n",
              "      <th>Rice, basmati-2</th>\n",
              "      <th>Milk, full cream-0</th>\n",
              "      <th>Milk, full cream-1</th>\n",
              "      <th>Milk, full cream-2</th>\n",
              "      <th>Butter-0</th>\n",
              "      <th>Butter-1</th>\n",
              "      <th>Butter-2</th>\n",
              "      <th>Eggs-0</th>\n",
              "      <th>Eggs-1</th>\n",
              "      <th>Eggs-2</th>\n",
              "      <th>Chicken breasts-0</th>\n",
              "      <th>Chicken breasts-1</th>\n",
              "      <th>Chicken breasts-2</th>\n",
              "    </tr>\n",
              "  </thead>\n",
              "  <tbody>\n",
              "    <tr>\n",
              "      <th>0</th>\n",
              "      <td>330.00</td>\n",
              "      <td>345.0</td>\n",
              "      <td>398.333333</td>\n",
              "      <td>142.857143</td>\n",
              "      <td>NaN</td>\n",
              "      <td>NaN</td>\n",
              "      <td>316.00</td>\n",
              "      <td>236.00</td>\n",
              "      <td>272.0</td>\n",
              "      <td>196.666667</td>\n",
              "      <td>130.0</td>\n",
              "      <td>90.0</td>\n",
              "      <td>210.00</td>\n",
              "      <td>120.0</td>\n",
              "      <td>118.0</td>\n",
              "      <td>253.34</td>\n",
              "      <td>183.20</td>\n",
              "      <td>112.66</td>\n",
              "      <td>179.40</td>\n",
              "      <td>182.80</td>\n",
              "      <td>178.60</td>\n",
              "      <td>1626.00</td>\n",
              "      <td>1700.00</td>\n",
              "      <td>2544.0</td>\n",
              "      <td>19.00</td>\n",
              "      <td>9.60</td>\n",
              "      <td>15.80</td>\n",
              "      <td>1237.5</td>\n",
              "      <td>632.0</td>\n",
              "      <td>500.0</td>\n",
              "    </tr>\n",
              "    <tr>\n",
              "      <th>1</th>\n",
              "      <td>69.90</td>\n",
              "      <td>86.0</td>\n",
              "      <td>50.000000</td>\n",
              "      <td>94.900000</td>\n",
              "      <td>NaN</td>\n",
              "      <td>NaN</td>\n",
              "      <td>84.90</td>\n",
              "      <td>NaN</td>\n",
              "      <td>NaN</td>\n",
              "      <td>26.000000</td>\n",
              "      <td>55.0</td>\n",
              "      <td>54.9</td>\n",
              "      <td>46.00</td>\n",
              "      <td>33.0</td>\n",
              "      <td>54.9</td>\n",
              "      <td>53.50</td>\n",
              "      <td>61.00</td>\n",
              "      <td>54.50</td>\n",
              "      <td>40.25</td>\n",
              "      <td>51.90</td>\n",
              "      <td>218.50</td>\n",
              "      <td>545.00</td>\n",
              "      <td>525.00</td>\n",
              "      <td>680.0</td>\n",
              "      <td>9.83</td>\n",
              "      <td>9.17</td>\n",
              "      <td>10.25</td>\n",
              "      <td>239.9</td>\n",
              "      <td>304.9</td>\n",
              "      <td>NaN</td>\n",
              "    </tr>\n",
              "    <tr>\n",
              "      <th>2</th>\n",
              "      <td>74.99</td>\n",
              "      <td>NaN</td>\n",
              "      <td>NaN</td>\n",
              "      <td>NaN</td>\n",
              "      <td>NaN</td>\n",
              "      <td>NaN</td>\n",
              "      <td>92.99</td>\n",
              "      <td>92.99</td>\n",
              "      <td>NaN</td>\n",
              "      <td>34.990000</td>\n",
              "      <td>NaN</td>\n",
              "      <td>NaN</td>\n",
              "      <td>40.69</td>\n",
              "      <td>NaN</td>\n",
              "      <td>NaN</td>\n",
              "      <td>59.99</td>\n",
              "      <td>67.98</td>\n",
              "      <td>49.99</td>\n",
              "      <td>52.49</td>\n",
              "      <td>40.25</td>\n",
              "      <td>68.99</td>\n",
              "      <td>489.98</td>\n",
              "      <td>497.45</td>\n",
              "      <td>532.9</td>\n",
              "      <td>9.83</td>\n",
              "      <td>9.17</td>\n",
              "      <td>11.33</td>\n",
              "      <td>312.9</td>\n",
              "      <td>NaN</td>\n",
              "      <td>NaN</td>\n",
              "    </tr>\n",
              "  </tbody>\n",
              "</table>\n",
              "</div>"
            ],
            "text/plain": [
              "   Apples-0  Apples-1  ...  Chicken breasts-1  Chicken breasts-2\n",
              "0    330.00     345.0  ...              632.0              500.0\n",
              "1     69.90      86.0  ...              304.9                NaN\n",
              "2     74.99       NaN  ...                NaN                NaN\n",
              "\n",
              "[3 rows x 30 columns]"
            ]
          },
          "metadata": {
            "tags": []
          },
          "execution_count": 29
        }
      ]
    },
    {
      "cell_type": "code",
      "metadata": {
        "id": "0-DJZMuTy0x4",
        "colab_type": "code",
        "outputId": "876d2f4d-b5f8-4847-feb4-f36229288bf5",
        "colab": {
          "base_uri": "https://localhost:8080/",
          "height": 292
        }
      },
      "source": [
        "'''\n",
        "Now we have a dataframe with info related to the store, neighborhoods\n",
        "and the normalized prices of the products.\n",
        "\n",
        "'''\n",
        "df1 = full_data[['Grocery store','Neighborhood']]\n",
        "full_df = pd.concat([df1, data_items], axis=1)\n",
        "full_df.head(5)"
      ],
      "execution_count": 42,
      "outputs": [
        {
          "output_type": "execute_result",
          "data": {
            "text/html": [
              "<div>\n",
              "<style scoped>\n",
              "    .dataframe tbody tr th:only-of-type {\n",
              "        vertical-align: middle;\n",
              "    }\n",
              "\n",
              "    .dataframe tbody tr th {\n",
              "        vertical-align: top;\n",
              "    }\n",
              "\n",
              "    .dataframe thead th {\n",
              "        text-align: right;\n",
              "    }\n",
              "</style>\n",
              "<table border=\"1\" class=\"dataframe\">\n",
              "  <thead>\n",
              "    <tr style=\"text-align: right;\">\n",
              "      <th></th>\n",
              "      <th>Grocery store</th>\n",
              "      <th>Neighborhood</th>\n",
              "      <th>Apples-0</th>\n",
              "      <th>Apples-1</th>\n",
              "      <th>Apples-2</th>\n",
              "      <th>Bananas-0</th>\n",
              "      <th>Bananas-1</th>\n",
              "      <th>Bananas-2</th>\n",
              "      <th>Tomatoes-0</th>\n",
              "      <th>Tomatoes-1</th>\n",
              "      <th>Tomatoes-2</th>\n",
              "      <th>Potatoes-0</th>\n",
              "      <th>Potatoes-1</th>\n",
              "      <th>Potatoes-2</th>\n",
              "      <th>Flour, white-0</th>\n",
              "      <th>Flour, white-1</th>\n",
              "      <th>Flour, white-2</th>\n",
              "      <th>Rice, basmati-0</th>\n",
              "      <th>Rice, basmati-1</th>\n",
              "      <th>Rice, basmati-2</th>\n",
              "      <th>Milk, full cream-0</th>\n",
              "      <th>Milk, full cream-1</th>\n",
              "      <th>Milk, full cream-2</th>\n",
              "      <th>Butter-0</th>\n",
              "      <th>Butter-1</th>\n",
              "      <th>Butter-2</th>\n",
              "      <th>Eggs-0</th>\n",
              "      <th>Eggs-1</th>\n",
              "      <th>Eggs-2</th>\n",
              "      <th>Chicken breasts-0</th>\n",
              "      <th>Chicken breasts-1</th>\n",
              "      <th>Chicken breasts-2</th>\n",
              "    </tr>\n",
              "  </thead>\n",
              "  <tbody>\n",
              "    <tr>\n",
              "      <th>0</th>\n",
              "      <td>Wellcome</td>\n",
              "      <td>Taipei</td>\n",
              "      <td>330.00</td>\n",
              "      <td>345.0</td>\n",
              "      <td>398.333333</td>\n",
              "      <td>142.857143</td>\n",
              "      <td>NaN</td>\n",
              "      <td>NaN</td>\n",
              "      <td>316.00</td>\n",
              "      <td>236.00</td>\n",
              "      <td>272.0</td>\n",
              "      <td>196.666667</td>\n",
              "      <td>130.0</td>\n",
              "      <td>90.0</td>\n",
              "      <td>210.00</td>\n",
              "      <td>120.0</td>\n",
              "      <td>118.00</td>\n",
              "      <td>253.34</td>\n",
              "      <td>183.20</td>\n",
              "      <td>112.66</td>\n",
              "      <td>179.40</td>\n",
              "      <td>182.80</td>\n",
              "      <td>178.60</td>\n",
              "      <td>1626.00</td>\n",
              "      <td>1700.00</td>\n",
              "      <td>2544.0</td>\n",
              "      <td>19.000000</td>\n",
              "      <td>9.600000</td>\n",
              "      <td>15.800000</td>\n",
              "      <td>1237.5</td>\n",
              "      <td>632.0</td>\n",
              "      <td>500.0</td>\n",
              "    </tr>\n",
              "    <tr>\n",
              "      <th>1</th>\n",
              "      <td>Carrefour</td>\n",
              "      <td>Retiro</td>\n",
              "      <td>69.90</td>\n",
              "      <td>86.0</td>\n",
              "      <td>50.000000</td>\n",
              "      <td>94.900000</td>\n",
              "      <td>NaN</td>\n",
              "      <td>NaN</td>\n",
              "      <td>84.90</td>\n",
              "      <td>NaN</td>\n",
              "      <td>NaN</td>\n",
              "      <td>26.000000</td>\n",
              "      <td>55.0</td>\n",
              "      <td>54.9</td>\n",
              "      <td>46.00</td>\n",
              "      <td>33.0</td>\n",
              "      <td>54.90</td>\n",
              "      <td>53.50</td>\n",
              "      <td>61.00</td>\n",
              "      <td>54.50</td>\n",
              "      <td>40.25</td>\n",
              "      <td>51.90</td>\n",
              "      <td>218.50</td>\n",
              "      <td>545.00</td>\n",
              "      <td>525.00</td>\n",
              "      <td>680.0</td>\n",
              "      <td>9.830000</td>\n",
              "      <td>9.170000</td>\n",
              "      <td>10.250000</td>\n",
              "      <td>239.9</td>\n",
              "      <td>304.9</td>\n",
              "      <td>NaN</td>\n",
              "    </tr>\n",
              "    <tr>\n",
              "      <th>2</th>\n",
              "      <td>Supermercados Día</td>\n",
              "      <td>Almagro</td>\n",
              "      <td>74.99</td>\n",
              "      <td>NaN</td>\n",
              "      <td>NaN</td>\n",
              "      <td>NaN</td>\n",
              "      <td>NaN</td>\n",
              "      <td>NaN</td>\n",
              "      <td>92.99</td>\n",
              "      <td>92.99</td>\n",
              "      <td>NaN</td>\n",
              "      <td>34.990000</td>\n",
              "      <td>NaN</td>\n",
              "      <td>NaN</td>\n",
              "      <td>40.69</td>\n",
              "      <td>NaN</td>\n",
              "      <td>NaN</td>\n",
              "      <td>59.99</td>\n",
              "      <td>67.98</td>\n",
              "      <td>49.99</td>\n",
              "      <td>52.49</td>\n",
              "      <td>40.25</td>\n",
              "      <td>68.99</td>\n",
              "      <td>489.98</td>\n",
              "      <td>497.45</td>\n",
              "      <td>532.9</td>\n",
              "      <td>9.830000</td>\n",
              "      <td>9.170000</td>\n",
              "      <td>11.330000</td>\n",
              "      <td>312.9</td>\n",
              "      <td>NaN</td>\n",
              "      <td>NaN</td>\n",
              "    </tr>\n",
              "    <tr>\n",
              "      <th>3</th>\n",
              "      <td>Jumbo</td>\n",
              "      <td>Palermo</td>\n",
              "      <td>80.00</td>\n",
              "      <td>NaN</td>\n",
              "      <td>NaN</td>\n",
              "      <td>84.000000</td>\n",
              "      <td>NaN</td>\n",
              "      <td>NaN</td>\n",
              "      <td>99.00</td>\n",
              "      <td>139.00</td>\n",
              "      <td>109.0</td>\n",
              "      <td>44.000000</td>\n",
              "      <td>26.0</td>\n",
              "      <td>58.0</td>\n",
              "      <td>40.00</td>\n",
              "      <td>77.5</td>\n",
              "      <td>64.00</td>\n",
              "      <td>54.00</td>\n",
              "      <td>53.50</td>\n",
              "      <td>54.50</td>\n",
              "      <td>69.00</td>\n",
              "      <td>60.00</td>\n",
              "      <td>65.00</td>\n",
              "      <td>625.00</td>\n",
              "      <td>650.00</td>\n",
              "      <td>470.0</td>\n",
              "      <td>15.483333</td>\n",
              "      <td>9.833333</td>\n",
              "      <td>13.816667</td>\n",
              "      <td>293.9</td>\n",
              "      <td>348.9</td>\n",
              "      <td>NaN</td>\n",
              "    </tr>\n",
              "    <tr>\n",
              "      <th>4</th>\n",
              "      <td>Jumbo</td>\n",
              "      <td>Almagro</td>\n",
              "      <td>69.00</td>\n",
              "      <td>89.0</td>\n",
              "      <td>159.000000</td>\n",
              "      <td>84.000000</td>\n",
              "      <td>NaN</td>\n",
              "      <td>NaN</td>\n",
              "      <td>99.00</td>\n",
              "      <td>109.00</td>\n",
              "      <td>139.0</td>\n",
              "      <td>39.000000</td>\n",
              "      <td>55.0</td>\n",
              "      <td>NaN</td>\n",
              "      <td>83.00</td>\n",
              "      <td>80.0</td>\n",
              "      <td>66.89</td>\n",
              "      <td>53.50</td>\n",
              "      <td>66.00</td>\n",
              "      <td>54.30</td>\n",
              "      <td>40.25</td>\n",
              "      <td>65.00</td>\n",
              "      <td>69.00</td>\n",
              "      <td>690.00</td>\n",
              "      <td>623.50</td>\n",
              "      <td>650.0</td>\n",
              "      <td>15.416667</td>\n",
              "      <td>12.083333</td>\n",
              "      <td>8.250000</td>\n",
              "      <td>372.0</td>\n",
              "      <td>NaN</td>\n",
              "      <td>NaN</td>\n",
              "    </tr>\n",
              "  </tbody>\n",
              "</table>\n",
              "</div>"
            ],
            "text/plain": [
              "       Grocery store Neighborhood  ...  Chicken breasts-1  Chicken breasts-2\n",
              "0           Wellcome       Taipei  ...              632.0              500.0\n",
              "1          Carrefour       Retiro  ...              304.9                NaN\n",
              "2  Supermercados Día      Almagro  ...                NaN                NaN\n",
              "3              Jumbo      Palermo  ...              348.9                NaN\n",
              "4              Jumbo      Almagro  ...                NaN                NaN\n",
              "\n",
              "[5 rows x 32 columns]"
            ]
          },
          "metadata": {
            "tags": []
          },
          "execution_count": 42
        }
      ]
    },
    {
      "cell_type": "code",
      "metadata": {
        "id": "sdbAZdH8ZSqj",
        "colab_type": "code",
        "colab": {
          "base_uri": "https://localhost:8080/",
          "height": 204
        },
        "outputId": "f5a5c2da-4de6-4dcd-8cad-9566f5ed15dd"
      },
      "source": [
        "'''\n",
        "We can convert the headers into rows\n",
        "As we can see we have all the same type of a product \n",
        "That will be 32 Apples - 0, 32 Apple -1 and so on\n",
        "\n",
        "As we can see there are 30 types of products \n",
        "therefore, the list will repeat 30 times\n",
        "'''\n",
        "reverse_df = pd.melt(data_items).rename(\n",
        "    columns={\"variable\":\"Product\", \"value\":\"Price\"}).head()\n",
        "\n",
        "neighborhood_column = list(full_df.Neighborhood.values.astype(str))*data_items.shape[1]\n",
        "stores_column = list(full_df['Grocery store'].values.astype(str))*data_items.shape[1]\n",
        "\n",
        "# Merging all these we have \n",
        "df_full = pd.concat([reverse_df,\n",
        "                     pd.DataFrame({'Neighborhood' : neighborhood_column}), \n",
        "                     pd.DataFrame({'Store' : stores_column})], axis =1\n",
        "\n",
        ")\n",
        "\n",
        "df_full.head()"
      ],
      "execution_count": 58,
      "outputs": [
        {
          "output_type": "execute_result",
          "data": {
            "text/html": [
              "<div>\n",
              "<style scoped>\n",
              "    .dataframe tbody tr th:only-of-type {\n",
              "        vertical-align: middle;\n",
              "    }\n",
              "\n",
              "    .dataframe tbody tr th {\n",
              "        vertical-align: top;\n",
              "    }\n",
              "\n",
              "    .dataframe thead th {\n",
              "        text-align: right;\n",
              "    }\n",
              "</style>\n",
              "<table border=\"1\" class=\"dataframe\">\n",
              "  <thead>\n",
              "    <tr style=\"text-align: right;\">\n",
              "      <th></th>\n",
              "      <th>Product</th>\n",
              "      <th>Price</th>\n",
              "      <th>Neighborhood</th>\n",
              "      <th>Store</th>\n",
              "    </tr>\n",
              "  </thead>\n",
              "  <tbody>\n",
              "    <tr>\n",
              "      <th>0</th>\n",
              "      <td>Apples-0</td>\n",
              "      <td>330.00</td>\n",
              "      <td>Taipei</td>\n",
              "      <td>Wellcome</td>\n",
              "    </tr>\n",
              "    <tr>\n",
              "      <th>1</th>\n",
              "      <td>Apples-0</td>\n",
              "      <td>69.90</td>\n",
              "      <td>Retiro</td>\n",
              "      <td>Carrefour</td>\n",
              "    </tr>\n",
              "    <tr>\n",
              "      <th>2</th>\n",
              "      <td>Apples-0</td>\n",
              "      <td>74.99</td>\n",
              "      <td>Almagro</td>\n",
              "      <td>Supermercados Día</td>\n",
              "    </tr>\n",
              "    <tr>\n",
              "      <th>3</th>\n",
              "      <td>Apples-0</td>\n",
              "      <td>80.00</td>\n",
              "      <td>Palermo</td>\n",
              "      <td>Jumbo</td>\n",
              "    </tr>\n",
              "    <tr>\n",
              "      <th>4</th>\n",
              "      <td>Apples-0</td>\n",
              "      <td>69.00</td>\n",
              "      <td>Almagro</td>\n",
              "      <td>Jumbo</td>\n",
              "    </tr>\n",
              "  </tbody>\n",
              "</table>\n",
              "</div>"
            ],
            "text/plain": [
              "    Product   Price Neighborhood              Store\n",
              "0  Apples-0  330.00       Taipei           Wellcome\n",
              "1  Apples-0   69.90       Retiro          Carrefour\n",
              "2  Apples-0   74.99      Almagro  Supermercados Día\n",
              "3  Apples-0   80.00      Palermo              Jumbo\n",
              "4  Apples-0   69.00      Almagro              Jumbo"
            ]
          },
          "metadata": {
            "tags": []
          },
          "execution_count": 58
        }
      ]
    },
    {
      "cell_type": "code",
      "metadata": {
        "id": "teiUku3gakvw",
        "colab_type": "code",
        "colab": {}
      },
      "source": [
        "'''\n",
        "Now we can create a data frame for each of the relevant \n",
        "variables with their respective indexes\n",
        "\n",
        "'''\n",
        "Stores = list(full_data['Grocery store'].unique())\n",
        "Neighborhoods = list(full_data['Neighborhood'].unique())\n",
        "Supermarket_Items = supermarket_items\n",
        "\n",
        "def new_dataframes(list_, title):\n",
        "    df= pd.DataFrame({title: list_})\n",
        "    df['Index'] = np.arange(len(df))\n",
        "    return df\n",
        "\n",
        "data_Stores= new_dataframes(Stores, 'Stores')\n",
        "data_Neighborhoods= new_dataframes(Neighborhoods, 'Neighborhoods')\n",
        "data_Supermarket_Items= new_dataframes(Supermarket_Items, 'Supermarket_Items')"
      ],
      "execution_count": 0,
      "outputs": []
    },
    {
      "cell_type": "code",
      "metadata": {
        "id": "YzQUR832uQ75",
        "colab_type": "code",
        "outputId": "599a41b0-5333-4d4c-9985-3ab3da82e52f",
        "colab": {
          "base_uri": "https://localhost:8080/",
          "height": 173
        }
      },
      "source": [
        "data_Stores"
      ],
      "execution_count": 32,
      "outputs": [
        {
          "output_type": "execute_result",
          "data": {
            "text/html": [
              "<div>\n",
              "<style scoped>\n",
              "    .dataframe tbody tr th:only-of-type {\n",
              "        vertical-align: middle;\n",
              "    }\n",
              "\n",
              "    .dataframe tbody tr th {\n",
              "        vertical-align: top;\n",
              "    }\n",
              "\n",
              "    .dataframe thead th {\n",
              "        text-align: right;\n",
              "    }\n",
              "</style>\n",
              "<table border=\"1\" class=\"dataframe\">\n",
              "  <thead>\n",
              "    <tr style=\"text-align: right;\">\n",
              "      <th></th>\n",
              "      <th>Stores</th>\n",
              "      <th>Index</th>\n",
              "    </tr>\n",
              "  </thead>\n",
              "  <tbody>\n",
              "    <tr>\n",
              "      <th>0</th>\n",
              "      <td>Wellcome</td>\n",
              "      <td>0</td>\n",
              "    </tr>\n",
              "    <tr>\n",
              "      <th>1</th>\n",
              "      <td>Carrefour</td>\n",
              "      <td>1</td>\n",
              "    </tr>\n",
              "    <tr>\n",
              "      <th>2</th>\n",
              "      <td>Supermercados Día</td>\n",
              "      <td>2</td>\n",
              "    </tr>\n",
              "    <tr>\n",
              "      <th>3</th>\n",
              "      <td>Jumbo</td>\n",
              "      <td>3</td>\n",
              "    </tr>\n",
              "  </tbody>\n",
              "</table>\n",
              "</div>"
            ],
            "text/plain": [
              "              Stores  Index\n",
              "0           Wellcome      0\n",
              "1          Carrefour      1\n",
              "2  Supermercados Día      2\n",
              "3              Jumbo      3"
            ]
          },
          "metadata": {
            "tags": []
          },
          "execution_count": 32
        }
      ]
    },
    {
      "cell_type": "code",
      "metadata": {
        "id": "8IoAHYLBw22T",
        "colab_type": "code",
        "outputId": "47d95252-7e30-4b1e-a2b2-5598c0945339",
        "colab": {
          "base_uri": "https://localhost:8080/",
          "height": 328
        }
      },
      "source": [
        "data_Neighborhoods "
      ],
      "execution_count": 33,
      "outputs": [
        {
          "output_type": "execute_result",
          "data": {
            "text/html": [
              "<div>\n",
              "<style scoped>\n",
              "    .dataframe tbody tr th:only-of-type {\n",
              "        vertical-align: middle;\n",
              "    }\n",
              "\n",
              "    .dataframe tbody tr th {\n",
              "        vertical-align: top;\n",
              "    }\n",
              "\n",
              "    .dataframe thead th {\n",
              "        text-align: right;\n",
              "    }\n",
              "</style>\n",
              "<table border=\"1\" class=\"dataframe\">\n",
              "  <thead>\n",
              "    <tr style=\"text-align: right;\">\n",
              "      <th></th>\n",
              "      <th>Neighborhoods</th>\n",
              "      <th>Index</th>\n",
              "    </tr>\n",
              "  </thead>\n",
              "  <tbody>\n",
              "    <tr>\n",
              "      <th>0</th>\n",
              "      <td>Taipei</td>\n",
              "      <td>0</td>\n",
              "    </tr>\n",
              "    <tr>\n",
              "      <th>1</th>\n",
              "      <td>Retiro</td>\n",
              "      <td>1</td>\n",
              "    </tr>\n",
              "    <tr>\n",
              "      <th>2</th>\n",
              "      <td>Almagro</td>\n",
              "      <td>2</td>\n",
              "    </tr>\n",
              "    <tr>\n",
              "      <th>3</th>\n",
              "      <td>Palermo</td>\n",
              "      <td>3</td>\n",
              "    </tr>\n",
              "    <tr>\n",
              "      <th>4</th>\n",
              "      <td>Monserrat</td>\n",
              "      <td>4</td>\n",
              "    </tr>\n",
              "    <tr>\n",
              "      <th>5</th>\n",
              "      <td>Recoleta</td>\n",
              "      <td>5</td>\n",
              "    </tr>\n",
              "    <tr>\n",
              "      <th>6</th>\n",
              "      <td>Caballito</td>\n",
              "      <td>6</td>\n",
              "    </tr>\n",
              "    <tr>\n",
              "      <th>7</th>\n",
              "      <td>Colegiales</td>\n",
              "      <td>7</td>\n",
              "    </tr>\n",
              "    <tr>\n",
              "      <th>8</th>\n",
              "      <td>Balvanera</td>\n",
              "      <td>8</td>\n",
              "    </tr>\n",
              "  </tbody>\n",
              "</table>\n",
              "</div>"
            ],
            "text/plain": [
              "  Neighborhoods  Index\n",
              "0        Taipei      0\n",
              "1        Retiro      1\n",
              "2       Almagro      2\n",
              "3       Palermo      3\n",
              "4     Monserrat      4\n",
              "5      Recoleta      5\n",
              "6     Caballito      6\n",
              "7    Colegiales      7\n",
              "8     Balvanera      8"
            ]
          },
          "metadata": {
            "tags": []
          },
          "execution_count": 33
        }
      ]
    },
    {
      "cell_type": "code",
      "metadata": {
        "id": "H0MV0PS0w5eN",
        "colab_type": "code",
        "outputId": "721fcfb7-04cf-45ee-c7ee-3c58112bba34",
        "colab": {
          "base_uri": "https://localhost:8080/",
          "height": 359
        }
      },
      "source": [
        "data_Supermarket_Items"
      ],
      "execution_count": 34,
      "outputs": [
        {
          "output_type": "execute_result",
          "data": {
            "text/html": [
              "<div>\n",
              "<style scoped>\n",
              "    .dataframe tbody tr th:only-of-type {\n",
              "        vertical-align: middle;\n",
              "    }\n",
              "\n",
              "    .dataframe tbody tr th {\n",
              "        vertical-align: top;\n",
              "    }\n",
              "\n",
              "    .dataframe thead th {\n",
              "        text-align: right;\n",
              "    }\n",
              "</style>\n",
              "<table border=\"1\" class=\"dataframe\">\n",
              "  <thead>\n",
              "    <tr style=\"text-align: right;\">\n",
              "      <th></th>\n",
              "      <th>Supermarket_Items</th>\n",
              "      <th>Index</th>\n",
              "    </tr>\n",
              "  </thead>\n",
              "  <tbody>\n",
              "    <tr>\n",
              "      <th>0</th>\n",
              "      <td>Apples</td>\n",
              "      <td>0</td>\n",
              "    </tr>\n",
              "    <tr>\n",
              "      <th>1</th>\n",
              "      <td>Bananas</td>\n",
              "      <td>1</td>\n",
              "    </tr>\n",
              "    <tr>\n",
              "      <th>2</th>\n",
              "      <td>Tomatoes</td>\n",
              "      <td>2</td>\n",
              "    </tr>\n",
              "    <tr>\n",
              "      <th>3</th>\n",
              "      <td>Potatoes</td>\n",
              "      <td>3</td>\n",
              "    </tr>\n",
              "    <tr>\n",
              "      <th>4</th>\n",
              "      <td>Flour, white</td>\n",
              "      <td>4</td>\n",
              "    </tr>\n",
              "    <tr>\n",
              "      <th>5</th>\n",
              "      <td>Rice, basmati</td>\n",
              "      <td>5</td>\n",
              "    </tr>\n",
              "    <tr>\n",
              "      <th>6</th>\n",
              "      <td>Milk, full cream</td>\n",
              "      <td>6</td>\n",
              "    </tr>\n",
              "    <tr>\n",
              "      <th>7</th>\n",
              "      <td>Butter</td>\n",
              "      <td>7</td>\n",
              "    </tr>\n",
              "    <tr>\n",
              "      <th>8</th>\n",
              "      <td>Eggs</td>\n",
              "      <td>8</td>\n",
              "    </tr>\n",
              "    <tr>\n",
              "      <th>9</th>\n",
              "      <td>Chicken breasts</td>\n",
              "      <td>9</td>\n",
              "    </tr>\n",
              "  </tbody>\n",
              "</table>\n",
              "</div>"
            ],
            "text/plain": [
              "  Supermarket_Items  Index\n",
              "0            Apples      0\n",
              "1           Bananas      1\n",
              "2          Tomatoes      2\n",
              "3          Potatoes      3\n",
              "4      Flour, white      4\n",
              "5     Rice, basmati      5\n",
              "6  Milk, full cream      6\n",
              "7            Butter      7\n",
              "8              Eggs      8\n",
              "9   Chicken breasts      9"
            ]
          },
          "metadata": {
            "tags": []
          },
          "execution_count": 34
        }
      ]
    },
    {
      "cell_type": "code",
      "metadata": {
        "id": "SSIr0BFjI1Bc",
        "colab_type": "code",
        "colab": {
          "base_uri": "https://localhost:8080/",
          "height": 204
        },
        "outputId": "f21fdf11-329a-4ce6-8a0d-9d85caf21de8"
      },
      "source": [
        "df_full.head()"
      ],
      "execution_count": 61,
      "outputs": [
        {
          "output_type": "execute_result",
          "data": {
            "text/html": [
              "<div>\n",
              "<style scoped>\n",
              "    .dataframe tbody tr th:only-of-type {\n",
              "        vertical-align: middle;\n",
              "    }\n",
              "\n",
              "    .dataframe tbody tr th {\n",
              "        vertical-align: top;\n",
              "    }\n",
              "\n",
              "    .dataframe thead th {\n",
              "        text-align: right;\n",
              "    }\n",
              "</style>\n",
              "<table border=\"1\" class=\"dataframe\">\n",
              "  <thead>\n",
              "    <tr style=\"text-align: right;\">\n",
              "      <th></th>\n",
              "      <th>Product</th>\n",
              "      <th>Price</th>\n",
              "      <th>Neighborhood</th>\n",
              "      <th>Store</th>\n",
              "    </tr>\n",
              "  </thead>\n",
              "  <tbody>\n",
              "    <tr>\n",
              "      <th>0</th>\n",
              "      <td>Apples-0</td>\n",
              "      <td>330.00</td>\n",
              "      <td>Taipei</td>\n",
              "      <td>Wellcome</td>\n",
              "    </tr>\n",
              "    <tr>\n",
              "      <th>1</th>\n",
              "      <td>Apples-0</td>\n",
              "      <td>69.90</td>\n",
              "      <td>Retiro</td>\n",
              "      <td>Carrefour</td>\n",
              "    </tr>\n",
              "    <tr>\n",
              "      <th>2</th>\n",
              "      <td>Apples-0</td>\n",
              "      <td>74.99</td>\n",
              "      <td>Almagro</td>\n",
              "      <td>Supermercados Día</td>\n",
              "    </tr>\n",
              "    <tr>\n",
              "      <th>3</th>\n",
              "      <td>Apples-0</td>\n",
              "      <td>80.00</td>\n",
              "      <td>Palermo</td>\n",
              "      <td>Jumbo</td>\n",
              "    </tr>\n",
              "    <tr>\n",
              "      <th>4</th>\n",
              "      <td>Apples-0</td>\n",
              "      <td>69.00</td>\n",
              "      <td>Almagro</td>\n",
              "      <td>Jumbo</td>\n",
              "    </tr>\n",
              "  </tbody>\n",
              "</table>\n",
              "</div>"
            ],
            "text/plain": [
              "    Product   Price Neighborhood              Store\n",
              "0  Apples-0  330.00       Taipei           Wellcome\n",
              "1  Apples-0   69.90       Retiro          Carrefour\n",
              "2  Apples-0   74.99      Almagro  Supermercados Día\n",
              "3  Apples-0   80.00      Palermo              Jumbo\n",
              "4  Apples-0   69.00      Almagro              Jumbo"
            ]
          },
          "metadata": {
            "tags": []
          },
          "execution_count": 61
        }
      ]
    },
    {
      "cell_type": "code",
      "metadata": {
        "id": "RSkJURXJz3ke",
        "colab_type": "code",
        "colab": {}
      },
      "source": [
        "'''\n",
        "Next step is to convert the strings into int values for better data process\n",
        "For this we will be using the dataframe with inputs that we obtained before\n",
        "and match those values into our dataframe\n",
        "\n",
        "'''\n",
        "for i in range(df_full.shape[0]):\n",
        "    \n",
        "\n",
        "\n",
        "\n"
      ],
      "execution_count": 0,
      "outputs": []
    },
    {
      "cell_type": "code",
      "metadata": {
        "id": "HIyN__iuDAI-",
        "colab_type": "code",
        "colab": {}
      },
      "source": [
        ""
      ],
      "execution_count": 0,
      "outputs": []
    }
  ]
}